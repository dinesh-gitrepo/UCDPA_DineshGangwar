{
 "cells": [
  {
   "cell_type": "markdown",
   "id": "8a7392a2",
   "metadata": {},
   "source": [
    "# Disease Prediction Using Machine Learning\n",
    "### Dataset Used - https://www.kaggle.com/datasets/kaushil268/disease-prediction-using-machine-learning"
   ]
  },
  {
   "cell_type": "markdown",
   "id": "0ec7fb04",
   "metadata": {},
   "source": [
    "## Import Dataset"
   ]
  },
  {
   "cell_type": "code",
   "execution_count": 181,
   "id": "85164514",
   "metadata": {},
   "outputs": [],
   "source": [
    "import pandas as pd\n",
    "import numpy as np\n",
    "import sqlite3\n",
    "from sklearn.model_selection import train_test_split\n",
    "from sklearn.linear_model import LogisticRegression\n",
    "from sklearn.metrics import accuracy_score, r2_score\n",
    "import matplotlib.pyplot as plt\n",
    "import seaborn as sns"
   ]
  },
  {
   "cell_type": "markdown",
   "id": "4e04579e",
   "metadata": {},
   "source": [
    "### 1. Create database and table"
   ]
  },
  {
   "cell_type": "code",
   "execution_count": 5,
   "id": "dd5dddd0",
   "metadata": {},
   "outputs": [],
   "source": [
    "# Creating database and table in that database\n",
    "\n",
    "conn = sqlite3.connect('disease.db')\n",
    "\n",
    "conn.execute('''CREATE TABLE DISEASE_PROGNOSIS (\n",
    "                ID          INT PRIMARY KEY     NOT NULL,\n",
    "                PROGNOSIS   TEXT NOT NULL);''')\n",
    "conn.close()"
   ]
  },
  {
   "cell_type": "markdown",
   "id": "82d4cf4b",
   "metadata": {},
   "source": [
    "### 2. Import data from csv"
   ]
  },
  {
   "cell_type": "code",
   "execution_count": 139,
   "id": "b013d072",
   "metadata": {},
   "outputs": [
    {
     "data": {
      "text/plain": [
       "(4962, 42, 4920)"
      ]
     },
     "execution_count": 139,
     "metadata": {},
     "output_type": "execute_result"
    }
   ],
   "source": [
    "# Inserting data into database table\n",
    "\n",
    "disease_test_df = pd.read_csv('Disease_Testing.csv')\n",
    "disease_train_df = pd.read_csv('Disease_Training.csv')\n",
    "\n",
    "disease_df = pd.concat([disease_test_df, disease_train_df], ignore_index=True)\n",
    "\n",
    "len(disease_df), len(disease_test_df), len(disease_train_df)"
   ]
  },
  {
   "cell_type": "code",
   "execution_count": 140,
   "id": "52251714",
   "metadata": {},
   "outputs": [
    {
     "data": {
      "text/html": [
       "<div>\n",
       "<style scoped>\n",
       "    .dataframe tbody tr th:only-of-type {\n",
       "        vertical-align: middle;\n",
       "    }\n",
       "\n",
       "    .dataframe tbody tr th {\n",
       "        vertical-align: top;\n",
       "    }\n",
       "\n",
       "    .dataframe thead th {\n",
       "        text-align: right;\n",
       "    }\n",
       "</style>\n",
       "<table border=\"1\" class=\"dataframe\">\n",
       "  <thead>\n",
       "    <tr style=\"text-align: right;\">\n",
       "      <th></th>\n",
       "      <th>id</th>\n",
       "      <th>itching</th>\n",
       "      <th>skin_rash</th>\n",
       "      <th>nodal_skin_eruptions</th>\n",
       "      <th>continuous_sneezing</th>\n",
       "      <th>shivering</th>\n",
       "      <th>chills</th>\n",
       "      <th>joint_pain</th>\n",
       "      <th>stomach_pain</th>\n",
       "      <th>acidity</th>\n",
       "      <th>...</th>\n",
       "      <th>blackheads</th>\n",
       "      <th>scurring</th>\n",
       "      <th>skin_peeling</th>\n",
       "      <th>silver_like_dusting</th>\n",
       "      <th>small_dents_in_nails</th>\n",
       "      <th>inflammatory_nails</th>\n",
       "      <th>blister</th>\n",
       "      <th>red_sore_around_nose</th>\n",
       "      <th>yellow_crust_ooze</th>\n",
       "      <th>prognosis</th>\n",
       "    </tr>\n",
       "  </thead>\n",
       "  <tbody>\n",
       "    <tr>\n",
       "      <th>4903</th>\n",
       "      <td>4962</td>\n",
       "      <td>0</td>\n",
       "      <td>0</td>\n",
       "      <td>0</td>\n",
       "      <td>0</td>\n",
       "      <td>0</td>\n",
       "      <td>0</td>\n",
       "      <td>1</td>\n",
       "      <td>0</td>\n",
       "      <td>0</td>\n",
       "      <td>...</td>\n",
       "      <td>0</td>\n",
       "      <td>0</td>\n",
       "      <td>0</td>\n",
       "      <td>0</td>\n",
       "      <td>0</td>\n",
       "      <td>0</td>\n",
       "      <td>0</td>\n",
       "      <td>0</td>\n",
       "      <td>0</td>\n",
       "      <td>Hepatitis E</td>\n",
       "    </tr>\n",
       "    <tr>\n",
       "      <th>2933</th>\n",
       "      <td>2992</td>\n",
       "      <td>0</td>\n",
       "      <td>0</td>\n",
       "      <td>0</td>\n",
       "      <td>0</td>\n",
       "      <td>0</td>\n",
       "      <td>0</td>\n",
       "      <td>0</td>\n",
       "      <td>0</td>\n",
       "      <td>0</td>\n",
       "      <td>...</td>\n",
       "      <td>0</td>\n",
       "      <td>0</td>\n",
       "      <td>0</td>\n",
       "      <td>0</td>\n",
       "      <td>0</td>\n",
       "      <td>0</td>\n",
       "      <td>0</td>\n",
       "      <td>0</td>\n",
       "      <td>0</td>\n",
       "      <td>Hepatitis C</td>\n",
       "    </tr>\n",
       "    <tr>\n",
       "      <th>2945</th>\n",
       "      <td>3004</td>\n",
       "      <td>0</td>\n",
       "      <td>0</td>\n",
       "      <td>0</td>\n",
       "      <td>0</td>\n",
       "      <td>0</td>\n",
       "      <td>0</td>\n",
       "      <td>0</td>\n",
       "      <td>0</td>\n",
       "      <td>0</td>\n",
       "      <td>...</td>\n",
       "      <td>0</td>\n",
       "      <td>0</td>\n",
       "      <td>0</td>\n",
       "      <td>0</td>\n",
       "      <td>0</td>\n",
       "      <td>0</td>\n",
       "      <td>0</td>\n",
       "      <td>0</td>\n",
       "      <td>0</td>\n",
       "      <td>Hypoglycemia</td>\n",
       "    </tr>\n",
       "    <tr>\n",
       "      <th>3622</th>\n",
       "      <td>3681</td>\n",
       "      <td>0</td>\n",
       "      <td>0</td>\n",
       "      <td>0</td>\n",
       "      <td>0</td>\n",
       "      <td>0</td>\n",
       "      <td>0</td>\n",
       "      <td>0</td>\n",
       "      <td>0</td>\n",
       "      <td>0</td>\n",
       "      <td>...</td>\n",
       "      <td>0</td>\n",
       "      <td>0</td>\n",
       "      <td>0</td>\n",
       "      <td>0</td>\n",
       "      <td>0</td>\n",
       "      <td>0</td>\n",
       "      <td>0</td>\n",
       "      <td>0</td>\n",
       "      <td>0</td>\n",
       "      <td>Paralysis (brain hemorrhage)</td>\n",
       "    </tr>\n",
       "    <tr>\n",
       "      <th>3685</th>\n",
       "      <td>3744</td>\n",
       "      <td>0</td>\n",
       "      <td>0</td>\n",
       "      <td>0</td>\n",
       "      <td>0</td>\n",
       "      <td>0</td>\n",
       "      <td>0</td>\n",
       "      <td>0</td>\n",
       "      <td>0</td>\n",
       "      <td>0</td>\n",
       "      <td>...</td>\n",
       "      <td>0</td>\n",
       "      <td>0</td>\n",
       "      <td>0</td>\n",
       "      <td>0</td>\n",
       "      <td>0</td>\n",
       "      <td>0</td>\n",
       "      <td>0</td>\n",
       "      <td>0</td>\n",
       "      <td>0</td>\n",
       "      <td>Arthritis</td>\n",
       "    </tr>\n",
       "  </tbody>\n",
       "</table>\n",
       "<p>5 rows × 134 columns</p>\n",
       "</div>"
      ],
      "text/plain": [
       "        id  itching  skin_rash  nodal_skin_eruptions  continuous_sneezing  \\\n",
       "4903  4962        0          0                     0                    0   \n",
       "2933  2992        0          0                     0                    0   \n",
       "2945  3004        0          0                     0                    0   \n",
       "3622  3681        0          0                     0                    0   \n",
       "3685  3744        0          0                     0                    0   \n",
       "\n",
       "      shivering  chills  joint_pain  stomach_pain  acidity  ...  blackheads  \\\n",
       "4903          0       0           1             0        0  ...           0   \n",
       "2933          0       0           0             0        0  ...           0   \n",
       "2945          0       0           0             0        0  ...           0   \n",
       "3622          0       0           0             0        0  ...           0   \n",
       "3685          0       0           0             0        0  ...           0   \n",
       "\n",
       "      scurring  skin_peeling  silver_like_dusting  small_dents_in_nails  \\\n",
       "4903         0             0                    0                     0   \n",
       "2933         0             0                    0                     0   \n",
       "2945         0             0                    0                     0   \n",
       "3622         0             0                    0                     0   \n",
       "3685         0             0                    0                     0   \n",
       "\n",
       "      inflammatory_nails  blister  red_sore_around_nose  yellow_crust_ooze  \\\n",
       "4903                   0        0                     0                  0   \n",
       "2933                   0        0                     0                  0   \n",
       "2945                   0        0                     0                  0   \n",
       "3622                   0        0                     0                  0   \n",
       "3685                   0        0                     0                  0   \n",
       "\n",
       "                         prognosis  \n",
       "4903                   Hepatitis E  \n",
       "2933                   Hepatitis C  \n",
       "2945                  Hypoglycemia  \n",
       "3622  Paralysis (brain hemorrhage)  \n",
       "3685                     Arthritis  \n",
       "\n",
       "[5 rows x 134 columns]"
      ]
     },
     "execution_count": 140,
     "metadata": {},
     "output_type": "execute_result"
    }
   ],
   "source": [
    "disease_df.sample(5)"
   ]
  },
  {
   "cell_type": "markdown",
   "id": "d861444b",
   "metadata": {},
   "source": [
    "### 3. Insert data in table from DataFrame"
   ]
  },
  {
   "cell_type": "code",
   "execution_count": 28,
   "id": "e1ad8578",
   "metadata": {},
   "outputs": [
    {
     "name": "stdout",
     "output_type": "stream",
     "text": [
      "[(4962,)]\n",
      "[(101, 'Fungal infection'), (102, 'Fungal infection'), (103, 'Fungal infection'), (104, 'Fungal infection'), (105, 'Fungal infection'), (106, 'Fungal infection'), (107, 'Fungal infection'), (108, 'Fungal infection'), (109, 'Fungal infection')]\n"
     ]
    }
   ],
   "source": [
    "# Inserting data into table\n",
    "\n",
    "conn = sqlite3.connect('disease.db')\n",
    "\n",
    "conn.execute('DELETE FROM DISEASE_PROGNOSIS')\n",
    "disease_df[['id', 'prognosis']].to_sql('DISEASE_PROGNOSIS', conn, if_exists = 'append', index=False)\n",
    "\n",
    "conn.commit()\n",
    "\n",
    "# Get total record count of table\n",
    "c1 = conn.execute('SELECT COUNT(*) FROM DISEASE_PROGNOSIS')\n",
    "print(c1.fetchall())\n",
    "\n",
    "# Get records with Id < 110\n",
    "c2 = conn.execute('SELECT * FROM DISEASE_PROGNOSIS WHERE ID < 110')\n",
    "print(c2.fetchall())\n",
    "\n",
    "conn.close()"
   ]
  },
  {
   "cell_type": "markdown",
   "id": "9e8e41c0",
   "metadata": {},
   "source": [
    "## Preparing Dataset"
   ]
  },
  {
   "cell_type": "markdown",
   "id": "bb2a6ee2",
   "metadata": {},
   "source": [
    "### 1. Cleaning Data"
   ]
  },
  {
   "cell_type": "code",
   "execution_count": 41,
   "id": "ecdbe106",
   "metadata": {},
   "outputs": [
    {
     "data": {
      "text/plain": [
       "Series([], dtype: int64)"
      ]
     },
     "execution_count": 41,
     "metadata": {},
     "output_type": "execute_result"
    }
   ],
   "source": [
    "# check for missing values\n",
    "missing_data = disease_df.isna().sum()\n",
    "missing_data[missing_data > 0]\n",
    "\n",
    "# There is no missing data"
   ]
  },
  {
   "cell_type": "code",
   "execution_count": 46,
   "id": "175716d7",
   "metadata": {},
   "outputs": [
    {
     "data": {
      "text/html": [
       "<div>\n",
       "<style scoped>\n",
       "    .dataframe tbody tr th:only-of-type {\n",
       "        vertical-align: middle;\n",
       "    }\n",
       "\n",
       "    .dataframe tbody tr th {\n",
       "        vertical-align: top;\n",
       "    }\n",
       "\n",
       "    .dataframe thead th {\n",
       "        text-align: right;\n",
       "    }\n",
       "</style>\n",
       "<table border=\"1\" class=\"dataframe\">\n",
       "  <thead>\n",
       "    <tr style=\"text-align: right;\">\n",
       "      <th></th>\n",
       "      <th>id</th>\n",
       "      <th>itching</th>\n",
       "      <th>skin_rash</th>\n",
       "      <th>nodal_skin_eruptions</th>\n",
       "      <th>continuous_sneezing</th>\n",
       "      <th>shivering</th>\n",
       "      <th>chills</th>\n",
       "      <th>joint_pain</th>\n",
       "      <th>stomach_pain</th>\n",
       "      <th>acidity</th>\n",
       "      <th>...</th>\n",
       "      <th>blackheads</th>\n",
       "      <th>scurring</th>\n",
       "      <th>skin_peeling</th>\n",
       "      <th>silver_like_dusting</th>\n",
       "      <th>small_dents_in_nails</th>\n",
       "      <th>inflammatory_nails</th>\n",
       "      <th>blister</th>\n",
       "      <th>red_sore_around_nose</th>\n",
       "      <th>yellow_crust_ooze</th>\n",
       "      <th>prognosis</th>\n",
       "    </tr>\n",
       "  </thead>\n",
       "  <tbody>\n",
       "  </tbody>\n",
       "</table>\n",
       "<p>0 rows × 134 columns</p>\n",
       "</div>"
      ],
      "text/plain": [
       "Empty DataFrame\n",
       "Columns: [id, itching, skin_rash, nodal_skin_eruptions, continuous_sneezing, shivering, chills, joint_pain, stomach_pain, acidity, ulcers_on_tongue, muscle_wasting, vomiting, burning_micturition, spotting_ urination, fatigue, weight_gain, anxiety, cold_hands_and_feets, mood_swings, weight_loss, restlessness, lethargy, patches_in_throat, irregular_sugar_level, cough, high_fever, sunken_eyes, breathlessness, sweating, dehydration, indigestion, headache, yellowish_skin, dark_urine, nausea, loss_of_appetite, pain_behind_the_eyes, back_pain, constipation, abdominal_pain, diarrhoea, mild_fever, yellow_urine, yellowing_of_eyes, acute_liver_failure, fluid_overload, swelling_of_stomach, swelled_lymph_nodes, malaise, blurred_and_distorted_vision, phlegm, throat_irritation, redness_of_eyes, sinus_pressure, runny_nose, congestion, chest_pain, weakness_in_limbs, fast_heart_rate, pain_during_bowel_movements, pain_in_anal_region, bloody_stool, irritation_in_anus, neck_pain, dizziness, cramps, bruising, obesity, swollen_legs, swollen_blood_vessels, puffy_face_and_eyes, enlarged_thyroid, brittle_nails, swollen_extremeties, excessive_hunger, extra_marital_contacts, drying_and_tingling_lips, slurred_speech, knee_pain, hip_joint_pain, muscle_weakness, stiff_neck, swelling_joints, movement_stiffness, spinning_movements, loss_of_balance, unsteadiness, weakness_of_one_body_side, loss_of_smell, bladder_discomfort, foul_smell_of urine, continuous_feel_of_urine, passage_of_gases, internal_itching, toxic_look_(typhos), depression, irritability, muscle_pain, altered_sensorium, ...]\n",
       "Index: []\n",
       "\n",
       "[0 rows x 134 columns]"
      ]
     },
     "execution_count": 46,
     "metadata": {},
     "output_type": "execute_result"
    }
   ],
   "source": [
    "# Check for duplicate records in data\n",
    "disease_df[disease_df.duplicated()]\n",
    "\n",
    "# There is no duplicate data in DF"
   ]
  },
  {
   "cell_type": "code",
   "execution_count": 48,
   "id": "3f5b0c7e",
   "metadata": {},
   "outputs": [
    {
     "data": {
      "text/html": [
       "<div>\n",
       "<style scoped>\n",
       "    .dataframe tbody tr th:only-of-type {\n",
       "        vertical-align: middle;\n",
       "    }\n",
       "\n",
       "    .dataframe tbody tr th {\n",
       "        vertical-align: top;\n",
       "    }\n",
       "\n",
       "    .dataframe thead th {\n",
       "        text-align: right;\n",
       "    }\n",
       "</style>\n",
       "<table border=\"1\" class=\"dataframe\">\n",
       "  <thead>\n",
       "    <tr style=\"text-align: right;\">\n",
       "      <th></th>\n",
       "      <th>id</th>\n",
       "      <th>itching</th>\n",
       "      <th>skin_rash</th>\n",
       "      <th>nodal_skin_eruptions</th>\n",
       "      <th>continuous_sneezing</th>\n",
       "      <th>shivering</th>\n",
       "      <th>chills</th>\n",
       "      <th>joint_pain</th>\n",
       "      <th>stomach_pain</th>\n",
       "      <th>acidity</th>\n",
       "      <th>...</th>\n",
       "      <th>pus_filled_pimples</th>\n",
       "      <th>blackheads</th>\n",
       "      <th>scurring</th>\n",
       "      <th>skin_peeling</th>\n",
       "      <th>silver_like_dusting</th>\n",
       "      <th>small_dents_in_nails</th>\n",
       "      <th>inflammatory_nails</th>\n",
       "      <th>blister</th>\n",
       "      <th>red_sore_around_nose</th>\n",
       "      <th>yellow_crust_ooze</th>\n",
       "    </tr>\n",
       "  </thead>\n",
       "  <tbody>\n",
       "    <tr>\n",
       "      <th>count</th>\n",
       "      <td>4962.000000</td>\n",
       "      <td>4962.000000</td>\n",
       "      <td>4962.000000</td>\n",
       "      <td>4962.000000</td>\n",
       "      <td>4962.000000</td>\n",
       "      <td>4962.000000</td>\n",
       "      <td>4962.000000</td>\n",
       "      <td>4962.000000</td>\n",
       "      <td>4962.000000</td>\n",
       "      <td>4962.000000</td>\n",
       "      <td>...</td>\n",
       "      <td>4962.000000</td>\n",
       "      <td>4962.000000</td>\n",
       "      <td>4962.000000</td>\n",
       "      <td>4962.000000</td>\n",
       "      <td>4962.000000</td>\n",
       "      <td>4962.000000</td>\n",
       "      <td>4962.000000</td>\n",
       "      <td>4962.000000</td>\n",
       "      <td>4962.000000</td>\n",
       "      <td>4962.000000</td>\n",
       "    </tr>\n",
       "    <tr>\n",
       "      <th>mean</th>\n",
       "      <td>2589.795042</td>\n",
       "      <td>0.138049</td>\n",
       "      <td>0.160016</td>\n",
       "      <td>0.021967</td>\n",
       "      <td>0.045143</td>\n",
       "      <td>0.021967</td>\n",
       "      <td>0.162233</td>\n",
       "      <td>0.139057</td>\n",
       "      <td>0.045143</td>\n",
       "      <td>0.045143</td>\n",
       "      <td>...</td>\n",
       "      <td>0.021967</td>\n",
       "      <td>0.021967</td>\n",
       "      <td>0.021967</td>\n",
       "      <td>0.023378</td>\n",
       "      <td>0.023176</td>\n",
       "      <td>0.023176</td>\n",
       "      <td>0.023176</td>\n",
       "      <td>0.023176</td>\n",
       "      <td>0.023378</td>\n",
       "      <td>0.023176</td>\n",
       "    </tr>\n",
       "    <tr>\n",
       "      <th>std</th>\n",
       "      <td>1449.511053</td>\n",
       "      <td>0.344986</td>\n",
       "      <td>0.366658</td>\n",
       "      <td>0.146590</td>\n",
       "      <td>0.207639</td>\n",
       "      <td>0.146590</td>\n",
       "      <td>0.368702</td>\n",
       "      <td>0.346041</td>\n",
       "      <td>0.207639</td>\n",
       "      <td>0.207639</td>\n",
       "      <td>...</td>\n",
       "      <td>0.146590</td>\n",
       "      <td>0.146590</td>\n",
       "      <td>0.146590</td>\n",
       "      <td>0.151115</td>\n",
       "      <td>0.150478</td>\n",
       "      <td>0.150478</td>\n",
       "      <td>0.150478</td>\n",
       "      <td>0.150478</td>\n",
       "      <td>0.151115</td>\n",
       "      <td>0.150478</td>\n",
       "    </tr>\n",
       "    <tr>\n",
       "      <th>min</th>\n",
       "      <td>101.000000</td>\n",
       "      <td>0.000000</td>\n",
       "      <td>0.000000</td>\n",
       "      <td>0.000000</td>\n",
       "      <td>0.000000</td>\n",
       "      <td>0.000000</td>\n",
       "      <td>0.000000</td>\n",
       "      <td>0.000000</td>\n",
       "      <td>0.000000</td>\n",
       "      <td>0.000000</td>\n",
       "      <td>...</td>\n",
       "      <td>0.000000</td>\n",
       "      <td>0.000000</td>\n",
       "      <td>0.000000</td>\n",
       "      <td>0.000000</td>\n",
       "      <td>0.000000</td>\n",
       "      <td>0.000000</td>\n",
       "      <td>0.000000</td>\n",
       "      <td>0.000000</td>\n",
       "      <td>0.000000</td>\n",
       "      <td>0.000000</td>\n",
       "    </tr>\n",
       "    <tr>\n",
       "      <th>25%</th>\n",
       "      <td>1341.250000</td>\n",
       "      <td>0.000000</td>\n",
       "      <td>0.000000</td>\n",
       "      <td>0.000000</td>\n",
       "      <td>0.000000</td>\n",
       "      <td>0.000000</td>\n",
       "      <td>0.000000</td>\n",
       "      <td>0.000000</td>\n",
       "      <td>0.000000</td>\n",
       "      <td>0.000000</td>\n",
       "      <td>...</td>\n",
       "      <td>0.000000</td>\n",
       "      <td>0.000000</td>\n",
       "      <td>0.000000</td>\n",
       "      <td>0.000000</td>\n",
       "      <td>0.000000</td>\n",
       "      <td>0.000000</td>\n",
       "      <td>0.000000</td>\n",
       "      <td>0.000000</td>\n",
       "      <td>0.000000</td>\n",
       "      <td>0.000000</td>\n",
       "    </tr>\n",
       "    <tr>\n",
       "      <th>50%</th>\n",
       "      <td>2581.500000</td>\n",
       "      <td>0.000000</td>\n",
       "      <td>0.000000</td>\n",
       "      <td>0.000000</td>\n",
       "      <td>0.000000</td>\n",
       "      <td>0.000000</td>\n",
       "      <td>0.000000</td>\n",
       "      <td>0.000000</td>\n",
       "      <td>0.000000</td>\n",
       "      <td>0.000000</td>\n",
       "      <td>...</td>\n",
       "      <td>0.000000</td>\n",
       "      <td>0.000000</td>\n",
       "      <td>0.000000</td>\n",
       "      <td>0.000000</td>\n",
       "      <td>0.000000</td>\n",
       "      <td>0.000000</td>\n",
       "      <td>0.000000</td>\n",
       "      <td>0.000000</td>\n",
       "      <td>0.000000</td>\n",
       "      <td>0.000000</td>\n",
       "    </tr>\n",
       "    <tr>\n",
       "      <th>75%</th>\n",
       "      <td>3821.750000</td>\n",
       "      <td>0.000000</td>\n",
       "      <td>0.000000</td>\n",
       "      <td>0.000000</td>\n",
       "      <td>0.000000</td>\n",
       "      <td>0.000000</td>\n",
       "      <td>0.000000</td>\n",
       "      <td>0.000000</td>\n",
       "      <td>0.000000</td>\n",
       "      <td>0.000000</td>\n",
       "      <td>...</td>\n",
       "      <td>0.000000</td>\n",
       "      <td>0.000000</td>\n",
       "      <td>0.000000</td>\n",
       "      <td>0.000000</td>\n",
       "      <td>0.000000</td>\n",
       "      <td>0.000000</td>\n",
       "      <td>0.000000</td>\n",
       "      <td>0.000000</td>\n",
       "      <td>0.000000</td>\n",
       "      <td>0.000000</td>\n",
       "    </tr>\n",
       "    <tr>\n",
       "      <th>max</th>\n",
       "      <td>6042.000000</td>\n",
       "      <td>1.000000</td>\n",
       "      <td>1.000000</td>\n",
       "      <td>1.000000</td>\n",
       "      <td>1.000000</td>\n",
       "      <td>1.000000</td>\n",
       "      <td>1.000000</td>\n",
       "      <td>1.000000</td>\n",
       "      <td>1.000000</td>\n",
       "      <td>1.000000</td>\n",
       "      <td>...</td>\n",
       "      <td>1.000000</td>\n",
       "      <td>1.000000</td>\n",
       "      <td>1.000000</td>\n",
       "      <td>1.000000</td>\n",
       "      <td>1.000000</td>\n",
       "      <td>1.000000</td>\n",
       "      <td>1.000000</td>\n",
       "      <td>1.000000</td>\n",
       "      <td>1.000000</td>\n",
       "      <td>1.000000</td>\n",
       "    </tr>\n",
       "  </tbody>\n",
       "</table>\n",
       "<p>8 rows × 133 columns</p>\n",
       "</div>"
      ],
      "text/plain": [
       "                id      itching    skin_rash  nodal_skin_eruptions  \\\n",
       "count  4962.000000  4962.000000  4962.000000           4962.000000   \n",
       "mean   2589.795042     0.138049     0.160016              0.021967   \n",
       "std    1449.511053     0.344986     0.366658              0.146590   \n",
       "min     101.000000     0.000000     0.000000              0.000000   \n",
       "25%    1341.250000     0.000000     0.000000              0.000000   \n",
       "50%    2581.500000     0.000000     0.000000              0.000000   \n",
       "75%    3821.750000     0.000000     0.000000              0.000000   \n",
       "max    6042.000000     1.000000     1.000000              1.000000   \n",
       "\n",
       "       continuous_sneezing    shivering       chills   joint_pain  \\\n",
       "count          4962.000000  4962.000000  4962.000000  4962.000000   \n",
       "mean              0.045143     0.021967     0.162233     0.139057   \n",
       "std               0.207639     0.146590     0.368702     0.346041   \n",
       "min               0.000000     0.000000     0.000000     0.000000   \n",
       "25%               0.000000     0.000000     0.000000     0.000000   \n",
       "50%               0.000000     0.000000     0.000000     0.000000   \n",
       "75%               0.000000     0.000000     0.000000     0.000000   \n",
       "max               1.000000     1.000000     1.000000     1.000000   \n",
       "\n",
       "       stomach_pain      acidity  ...  pus_filled_pimples   blackheads  \\\n",
       "count   4962.000000  4962.000000  ...         4962.000000  4962.000000   \n",
       "mean       0.045143     0.045143  ...            0.021967     0.021967   \n",
       "std        0.207639     0.207639  ...            0.146590     0.146590   \n",
       "min        0.000000     0.000000  ...            0.000000     0.000000   \n",
       "25%        0.000000     0.000000  ...            0.000000     0.000000   \n",
       "50%        0.000000     0.000000  ...            0.000000     0.000000   \n",
       "75%        0.000000     0.000000  ...            0.000000     0.000000   \n",
       "max        1.000000     1.000000  ...            1.000000     1.000000   \n",
       "\n",
       "          scurring  skin_peeling  silver_like_dusting  small_dents_in_nails  \\\n",
       "count  4962.000000   4962.000000          4962.000000           4962.000000   \n",
       "mean      0.021967      0.023378             0.023176              0.023176   \n",
       "std       0.146590      0.151115             0.150478              0.150478   \n",
       "min       0.000000      0.000000             0.000000              0.000000   \n",
       "25%       0.000000      0.000000             0.000000              0.000000   \n",
       "50%       0.000000      0.000000             0.000000              0.000000   \n",
       "75%       0.000000      0.000000             0.000000              0.000000   \n",
       "max       1.000000      1.000000             1.000000              1.000000   \n",
       "\n",
       "       inflammatory_nails      blister  red_sore_around_nose  \\\n",
       "count         4962.000000  4962.000000           4962.000000   \n",
       "mean             0.023176     0.023176              0.023378   \n",
       "std              0.150478     0.150478              0.151115   \n",
       "min              0.000000     0.000000              0.000000   \n",
       "25%              0.000000     0.000000              0.000000   \n",
       "50%              0.000000     0.000000              0.000000   \n",
       "75%              0.000000     0.000000              0.000000   \n",
       "max              1.000000     1.000000              1.000000   \n",
       "\n",
       "       yellow_crust_ooze  \n",
       "count        4962.000000  \n",
       "mean            0.023176  \n",
       "std             0.150478  \n",
       "min             0.000000  \n",
       "25%             0.000000  \n",
       "50%             0.000000  \n",
       "75%             0.000000  \n",
       "max             1.000000  \n",
       "\n",
       "[8 rows x 133 columns]"
      ]
     },
     "execution_count": 48,
     "metadata": {},
     "output_type": "execute_result"
    }
   ],
   "source": [
    "disease_df.describe()"
   ]
  },
  {
   "cell_type": "code",
   "execution_count": 150,
   "id": "11e2b964",
   "metadata": {},
   "outputs": [
    {
     "name": "stderr",
     "output_type": "stream",
     "text": [
      "C:\\Users\\Dell\\anaconda3\\lib\\site-packages\\seaborn\\_decorators.py:36: FutureWarning: Pass the following variable as a keyword arg: x. From version 0.12, the only valid positional argument will be `data`, and passing other arguments without an explicit keyword will result in an error or misinterpretation.\n",
      "  warnings.warn(\n"
     ]
    },
    {
     "data": {
      "image/png": "[encoded data removed]",
      "text/plain": [
       "<Figure size 1080x360 with 1 Axes>"
      ]
     },
     "metadata": {
      "needs_background": "light"
     },
     "output_type": "display_data"
    }
   ],
   "source": [
    "# Check the distribution of target values in data\n",
    "#disease_df['prognosis'].value_counts()\n",
    "\n",
    "fig, ax = plt.subplots(figsize = (15, 5))\n",
    "sns.countplot(disease_df['prognosis'])\n",
    "plt.xticks(rotation=90)\n",
    "plt.show()"
   ]
  },
  {
   "cell_type": "markdown",
   "id": "b44190cc",
   "metadata": {},
   "source": [
    "### 2. Prepare training and test sets"
   ]
  },
  {
   "cell_type": "code",
   "execution_count": 56,
   "id": "9223f45e",
   "metadata": {},
   "outputs": [
    {
     "data": {
      "text/plain": [
       "array(['Fungal infection', 'Allergy', 'GERD', 'Chronic cholestasis',\n",
       "       'Drug Reaction', 'Peptic ulcer diseae', 'AIDS', 'Diabetes ',\n",
       "       'Gastroenteritis', 'Bronchial Asthma', 'Hypertension ', 'Migraine',\n",
       "       'Cervical spondylosis', 'Paralysis (brain hemorrhage)', 'Jaundice',\n",
       "       'Malaria', 'Chicken pox', 'Dengue', 'Typhoid', 'hepatitis A',\n",
       "       'Hepatitis B', 'Hepatitis C', 'Hepatitis D', 'Hepatitis E',\n",
       "       'Alcoholic hepatitis', 'Tuberculosis', 'Common Cold', 'Pneumonia',\n",
       "       'Dimorphic hemmorhoids(piles)', 'Heart attack', 'Varicose veins',\n",
       "       'Hypothyroidism', 'Hyperthyroidism', 'Hypoglycemia',\n",
       "       'Osteoarthristis', 'Arthritis',\n",
       "       '(vertigo) Paroymsal  Positional Vertigo', 'Acne',\n",
       "       'Urinary tract infection', 'Psoriasis', 'Impetigo'], dtype=object)"
      ]
     },
     "execution_count": 56,
     "metadata": {},
     "output_type": "execute_result"
    }
   ],
   "source": [
    "# Check values for target feature\n",
    "disease_df['prognosis'].unique()"
   ]
  },
  {
   "cell_type": "code",
   "execution_count": 60,
   "id": "142bf0d3",
   "metadata": {},
   "outputs": [
    {
     "data": {
      "text/html": [
       "<div>\n",
       "<style scoped>\n",
       "    .dataframe tbody tr th:only-of-type {\n",
       "        vertical-align: middle;\n",
       "    }\n",
       "\n",
       "    .dataframe tbody tr th {\n",
       "        vertical-align: top;\n",
       "    }\n",
       "\n",
       "    .dataframe thead th {\n",
       "        text-align: right;\n",
       "    }\n",
       "</style>\n",
       "<table border=\"1\" class=\"dataframe\">\n",
       "  <thead>\n",
       "    <tr style=\"text-align: right;\">\n",
       "      <th></th>\n",
       "      <th>prognosis</th>\n",
       "      <th>prognosis_num</th>\n",
       "    </tr>\n",
       "  </thead>\n",
       "  <tbody>\n",
       "    <tr>\n",
       "      <th>0</th>\n",
       "      <td>Fungal infection</td>\n",
       "      <td>15</td>\n",
       "    </tr>\n",
       "    <tr>\n",
       "      <th>1</th>\n",
       "      <td>Allergy</td>\n",
       "      <td>4</td>\n",
       "    </tr>\n",
       "    <tr>\n",
       "      <th>2</th>\n",
       "      <td>GERD</td>\n",
       "      <td>16</td>\n",
       "    </tr>\n",
       "    <tr>\n",
       "      <th>3</th>\n",
       "      <td>Chronic cholestasis</td>\n",
       "      <td>9</td>\n",
       "    </tr>\n",
       "    <tr>\n",
       "      <th>4</th>\n",
       "      <td>Drug Reaction</td>\n",
       "      <td>14</td>\n",
       "    </tr>\n",
       "  </tbody>\n",
       "</table>\n",
       "</div>"
      ],
      "text/plain": [
       "             prognosis  prognosis_num\n",
       "0     Fungal infection             15\n",
       "1              Allergy              4\n",
       "2                 GERD             16\n",
       "3  Chronic cholestasis              9\n",
       "4        Drug Reaction             14"
      ]
     },
     "execution_count": 60,
     "metadata": {},
     "output_type": "execute_result"
    }
   ],
   "source": [
    "# Convert categorical values to numeric\n",
    "disease_df['prognosis'] = disease_df['prognosis'].astype('category')\n",
    "disease_df['prognosis_num'] = disease_df['prognosis'].cat.codes\n",
    "disease_df[['prognosis','prognosis_num']].head()"
   ]
  },
  {
   "cell_type": "code",
   "execution_count": 96,
   "id": "450d1d70",
   "metadata": {},
   "outputs": [
    {
     "data": {
      "text/plain": [
       "dict_keys([(0, '(vertigo) Paroymsal  Positional Vertigo'), (1, 'AIDS'), (2, 'Acne'), (3, 'Alcoholic hepatitis'), (4, 'Allergy'), (5, 'Arthritis'), (6, 'Bronchial Asthma'), (7, 'Cervical spondylosis'), (8, 'Chicken pox'), (9, 'Chronic cholestasis'), (10, 'Common Cold'), (11, 'Dengue'), (12, 'Diabetes '), (13, 'Dimorphic hemmorhoids(piles)'), (14, 'Drug Reaction'), (15, 'Fungal infection'), (16, 'GERD'), (17, 'Gastroenteritis'), (18, 'Heart attack'), (19, 'Hepatitis B'), (20, 'Hepatitis C'), (21, 'Hepatitis D'), (22, 'Hepatitis E'), (23, 'Hypertension '), (24, 'Hyperthyroidism'), (25, 'Hypoglycemia'), (26, 'Hypothyroidism'), (27, 'Impetigo'), (28, 'Jaundice'), (29, 'Malaria'), (30, 'Migraine'), (31, 'Osteoarthristis'), (32, 'Paralysis (brain hemorrhage)'), (33, 'Peptic ulcer diseae'), (34, 'Pneumonia'), (35, 'Psoriasis'), (36, 'Tuberculosis'), (37, 'Typhoid'), (38, 'Urinary tract infection'), (39, 'Varicose veins'), (40, 'hepatitis A')])"
      ]
     },
     "execution_count": 96,
     "metadata": {},
     "output_type": "execute_result"
    }
   ],
   "source": [
    "# Check Unique values\n",
    "disease_df[['prognosis_num','prognosis']].groupby(['prognosis_num','prognosis']).groups.keys()"
   ]
  },
  {
   "cell_type": "code",
   "execution_count": 71,
   "id": "4dfda50c",
   "metadata": {},
   "outputs": [
    {
     "data": {
      "text/plain": [
       "['AIDS']\n",
       "Categories (41, object): ['(vertigo) Paroymsal  Positional Vertigo', 'AIDS', 'Acne', 'Alcoholic hepatitis', ..., 'Typhoid', 'Urinary tract infection', 'Varicose veins', 'hepatitis A']"
      ]
     },
     "execution_count": 71,
     "metadata": {},
     "output_type": "execute_result"
    }
   ],
   "source": [
    "disease_df[disease_df['prognosis_num'] == 1]['prognosis'].unique()"
   ]
  },
  {
   "cell_type": "code",
   "execution_count": 120,
   "id": "fbd71e05",
   "metadata": {},
   "outputs": [],
   "source": [
    "# Use OneHotEncoding for categorical column\n",
    "#disease_df_new = disease_df.drop('prognosis', axis=1)\n",
    "#encoder = OneHotEncoder()\n",
    "#disease_df_enc = pd.DataFrame(encoder.fit_transform(disease_df_new[['prognosis_num']]).toarray())\n",
    "#disease_df_new.head()\n",
    "\n",
    "# combining encoded DF with original DF\n",
    "#encoded_df = disease_df_new.join(disease_df_enc)\n",
    "#encoded_df.head()"
   ]
  },
  {
   "cell_type": "code",
   "execution_count": 122,
   "id": "3cd20211",
   "metadata": {},
   "outputs": [
    {
     "data": {
      "text/plain": [
       "((3969, 133), (993, 133))"
      ]
     },
     "execution_count": 122,
     "metadata": {},
     "output_type": "execute_result"
    }
   ],
   "source": [
    "# prepare features and target\n",
    "X = disease_df.drop(['prognosis', 'prognosis_num'], axis=1)\n",
    "y = disease_df['prognosis_num']\n",
    "\n",
    "# Split training and test set\n",
    "X_train, X_test, y_train, y_test = train_test_split(X, y, test_size = 0.2, random_state = 12)\n",
    "\n",
    "X_train.shape , X_test.shape"
   ]
  },
  {
   "cell_type": "markdown",
   "id": "88e60adc",
   "metadata": {},
   "source": [
    "## Build ML Model"
   ]
  },
  {
   "cell_type": "markdown",
   "id": "a249745f",
   "metadata": {},
   "source": [
    "### 1. Logictic Regression"
   ]
  },
  {
   "cell_type": "code",
   "execution_count": 126,
   "id": "51713d51",
   "metadata": {},
   "outputs": [
    {
     "name": "stderr",
     "output_type": "stream",
     "text": [
      "C:\\Users\\Dell\\anaconda3\\lib\\site-packages\\sklearn\\linear_model\\_logistic.py:814: ConvergenceWarning: lbfgs failed to converge (status=1):\n",
      "STOP: TOTAL NO. of ITERATIONS REACHED LIMIT.\n",
      "\n",
      "Increase the number of iterations (max_iter) or scale the data as shown in:\n",
      "    https://scikit-learn.org/stable/modules/preprocessing.html\n",
      "Please also refer to the documentation for alternative solver options:\n",
      "    https://scikit-learn.org/stable/modules/linear_model.html#logistic-regression\n",
      "  n_iter_i = _check_optimize_result(\n"
     ]
    },
    {
     "data": {
      "text/plain": [
       "0.9982363315696648"
      ]
     },
     "execution_count": 126,
     "metadata": {},
     "output_type": "execute_result"
    }
   ],
   "source": [
    "model = LogisticRegression()\n",
    "model.fit(X_train, y_train)\n",
    "\n",
    "model.score(X_train, y_train)"
   ]
  },
  {
   "cell_type": "code",
   "execution_count": 128,
   "id": "977f5058",
   "metadata": {},
   "outputs": [],
   "source": [
    "y_pred = model.predict(X_test)"
   ]
  },
  {
   "cell_type": "code",
   "execution_count": 182,
   "id": "4423a465",
   "metadata": {},
   "outputs": [
    {
     "data": {
      "text/plain": [
       "0.9992020576798816"
      ]
     },
     "execution_count": 182,
     "metadata": {},
     "output_type": "execute_result"
    }
   ],
   "source": [
    "#accuracy_score(y_test, y_pred)\n",
    "r2_score(y_test, y_pred)"
   ]
  },
  {
   "cell_type": "code",
   "execution_count": 200,
   "id": "feab0fc7",
   "metadata": {},
   "outputs": [
    {
     "data": {
      "image/png": "[encoded data removed]",
      "text/plain": [
       "<Figure size 1440x432 with 1 Axes>"
      ]
     },
     "metadata": {
      "needs_background": "light"
     },
     "output_type": "display_data"
    }
   ],
   "source": [
    "fig, ax = plt.subplots(figsize=(20, 6))\n",
    "\n",
    "ax.plot(y_pred[:100], label = 'Predicted')\n",
    "ax.plot(y_test.values[:100], label = 'Test')\n",
    "plt.legend()\n",
    "\n",
    "plt.show()"
   ]
  },
  {
   "cell_type": "code",
   "execution_count": 197,
   "id": "7b18b82f",
   "metadata": {},
   "outputs": [
    {
     "data": {
      "text/plain": [
       "array([ 0, 25, 32, 34,  1, 23, 12, 38, 19, 40], dtype=int8)"
      ]
     },
     "execution_count": 197,
     "metadata": {},
     "output_type": "execute_result"
    }
   ],
   "source": [
    "y_pred[:10]"
   ]
  },
  {
   "cell_type": "markdown",
   "id": "c0126401",
   "metadata": {},
   "source": [
    "### 2. K-Nearest Neighbors"
   ]
  },
  {
   "cell_type": "code",
   "execution_count": 201,
   "id": "1d58fe6f",
   "metadata": {},
   "outputs": [],
   "source": [
    "from sklearn.neighbors import KNeighborsRegressor"
   ]
  },
  {
   "cell_type": "code",
   "execution_count": 204,
   "id": "a35af34c",
   "metadata": {},
   "outputs": [],
   "source": [
    "# function to apply algorithm with different parameters\n",
    "\n",
    "scores = []\n",
    "\n",
    "def apply_knn(n):\n",
    "    knn = KNeighborsRegressor(n_neighbors = n)\n",
    "    knn.fit(X_train, y_train)\n",
    "    y_pred = knn.predict(X_test)\n",
    "    accu = r2_score(y_test, y_pred)\n",
    "    scores.append(accu)"
   ]
  },
  {
   "cell_type": "code",
   "execution_count": 205,
   "id": "35a7f316",
   "metadata": {},
   "outputs": [
    {
     "data": {
      "text/plain": [
       "[0.05992789828790457,\n",
       " 0.30896347989041606,\n",
       " 0.32525439179534377,\n",
       " 0.3386886784035308,\n",
       " 0.34208414462627923,\n",
       " 0.3138490295124373,\n",
       " 0.3100326049888287,\n",
       " 0.3144755389122178,\n",
       " 0.31873357577763184,\n",
       " 0.31846113612272164,\n",
       " 0.3068596611217812,\n",
       " 0.2965570981459926,\n",
       " 0.2780142517605877,\n",
       " 0.25670730488774074]"
      ]
     },
     "execution_count": 205,
     "metadata": {},
     "output_type": "execute_result"
    }
   ],
   "source": [
    "scores = []\n",
    "\n",
    "for i in range(1, 15):\n",
    "    apply_knn(i)\n",
    "\n",
    "scores"
   ]
  },
  {
   "cell_type": "code",
   "execution_count": 180,
   "id": "91313592",
   "metadata": {},
   "outputs": [
    {
     "data": {
      "image/png": "[encoded data removed]",
      "text/plain": [
       "<Figure size 720x360 with 1 Axes>"
      ]
     },
     "metadata": {
      "needs_background": "light"
     },
     "output_type": "display_data"
    }
   ],
   "source": [
    "fig, ax = plt.subplots(figsize=(10, 5))\n",
    "\n",
    "#sns.relplot(data=scores, x=\"No of Neighbors\", y=\"Accuracy Score\", kind=\"line\")\n",
    "ax.plot(range(1,15), scores , marker='v')\n",
    "ax.set_title(\"Accuracy Score for K-nearest Neighbors\")\n",
    "plt.show()"
   ]
  },
  {
   "cell_type": "code",
   "execution_count": null,
   "id": "69455131",
   "metadata": {},
   "outputs": [],
   "source": []
  },
  {
   "cell_type": "code",
   "execution_count": null,
   "id": "ddeb2a47",
   "metadata": {},
   "outputs": [],
   "source": []
  }
 ],
 "metadata": {
  "kernelspec": {
   "display_name": "Python 3 (ipykernel)",
   "language": "python",
   "name": "python3"
  },
  "language_info": {
   "codemirror_mode": {
    "name": "ipython",
    "version": 3
   },
   "file_extension": ".py",
   "mimetype": "text/x-python",
   "name": "python",
   "nbconvert_exporter": "python",
   "pygments_lexer": "ipython3",
   "version": "3.9.12"
  }
 },
 "nbformat": 4,
 "nbformat_minor": 5
}
