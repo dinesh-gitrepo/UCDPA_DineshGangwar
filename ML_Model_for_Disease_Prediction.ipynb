{
 "cells": [
  {
   "cell_type": "markdown",
   "id": "8a7392a2",
   "metadata": {},
   "source": [
    "# Disease Prediction Using Machine Learning\n",
    "### Dataset Used - https://www.kaggle.com/datasets/kaushil268/disease-prediction-using-machine-learning"
   ]
  },
  {
   "cell_type": "markdown",
   "id": "0ec7fb04",
   "metadata": {},
   "source": [
    "## Import Dataset"
   ]
  },
  {
   "cell_type": "code",
   "execution_count": 199,
   "id": "85164514",
   "metadata": {},
   "outputs": [],
   "source": [
    "import pandas as pd\n",
    "import numpy as np\n",
    "import sqlite3\n",
    "from sklearn.model_selection import train_test_split\n",
    "from sklearn.linear_model import LogisticRegression\n",
    "from sklearn.metrics import accuracy_score, precision_score, recall_score, f1_score\n",
    "import matplotlib.pyplot as plt\n",
    "import seaborn as sns"
   ]
  },
  {
   "cell_type": "markdown",
   "id": "4e04579e",
   "metadata": {},
   "source": [
    "### 1. Create database and table"
   ]
  },
  {
   "cell_type": "code",
   "execution_count": 2,
   "id": "dd5dddd0",
   "metadata": {},
   "outputs": [],
   "source": [
    "# Creating database and table in that database\n",
    "\n",
    "conn = sqlite3.connect('disease.db')\n",
    "\n",
    "conn.execute('DROP TABLE DISEASE_PROGNOSIS')\n",
    "conn.execute('''CREATE TABLE DISEASE_PROGNOSIS (\n",
    "                ID          INT PRIMARY KEY     NOT NULL,\n",
    "                PROGNOSIS   TEXT NOT NULL);''')\n",
    "conn.close()"
   ]
  },
  {
   "cell_type": "markdown",
   "id": "82d4cf4b",
   "metadata": {},
   "source": [
    "### 2. Import data from csv"
   ]
  },
  {
   "cell_type": "code",
   "execution_count": 3,
   "id": "b013d072",
   "metadata": {},
   "outputs": [
    {
     "data": {
      "text/plain": [
       "(4962, 42, 4920)"
      ]
     },
     "execution_count": 3,
     "metadata": {},
     "output_type": "execute_result"
    }
   ],
   "source": [
    "# Inserting data into database table\n",
    "\n",
    "disease_test_df = pd.read_csv('Disease_Testing.csv')\n",
    "disease_train_df = pd.read_csv('Disease_Training.csv')\n",
    "\n",
    "disease_df = pd.concat([disease_test_df, disease_train_df], ignore_index=True)\n",
    "\n",
    "len(disease_df), len(disease_test_df), len(disease_train_df)"
   ]
  },
  {
   "cell_type": "code",
   "execution_count": 4,
   "id": "52251714",
   "metadata": {},
   "outputs": [
    {
     "data": {
      "text/html": [
       "<div>\n",
       "<style scoped>\n",
       "    .dataframe tbody tr th:only-of-type {\n",
       "        vertical-align: middle;\n",
       "    }\n",
       "\n",
       "    .dataframe tbody tr th {\n",
       "        vertical-align: top;\n",
       "    }\n",
       "\n",
       "    .dataframe thead th {\n",
       "        text-align: right;\n",
       "    }\n",
       "</style>\n",
       "<table border=\"1\" class=\"dataframe\">\n",
       "  <thead>\n",
       "    <tr style=\"text-align: right;\">\n",
       "      <th></th>\n",
       "      <th>id</th>\n",
       "      <th>itching</th>\n",
       "      <th>skin_rash</th>\n",
       "      <th>nodal_skin_eruptions</th>\n",
       "      <th>continuous_sneezing</th>\n",
       "      <th>shivering</th>\n",
       "      <th>chills</th>\n",
       "      <th>joint_pain</th>\n",
       "      <th>stomach_pain</th>\n",
       "      <th>acidity</th>\n",
       "      <th>...</th>\n",
       "      <th>blackheads</th>\n",
       "      <th>scurring</th>\n",
       "      <th>skin_peeling</th>\n",
       "      <th>silver_like_dusting</th>\n",
       "      <th>small_dents_in_nails</th>\n",
       "      <th>inflammatory_nails</th>\n",
       "      <th>blister</th>\n",
       "      <th>red_sore_around_nose</th>\n",
       "      <th>yellow_crust_ooze</th>\n",
       "      <th>prognosis</th>\n",
       "    </tr>\n",
       "  </thead>\n",
       "  <tbody>\n",
       "    <tr>\n",
       "      <th>1804</th>\n",
       "      <td>1863</td>\n",
       "      <td>0</td>\n",
       "      <td>0</td>\n",
       "      <td>0</td>\n",
       "      <td>0</td>\n",
       "      <td>0</td>\n",
       "      <td>0</td>\n",
       "      <td>0</td>\n",
       "      <td>0</td>\n",
       "      <td>0</td>\n",
       "      <td>...</td>\n",
       "      <td>0</td>\n",
       "      <td>0</td>\n",
       "      <td>0</td>\n",
       "      <td>0</td>\n",
       "      <td>0</td>\n",
       "      <td>0</td>\n",
       "      <td>0</td>\n",
       "      <td>0</td>\n",
       "      <td>0</td>\n",
       "      <td>Cervical spondylosis</td>\n",
       "    </tr>\n",
       "    <tr>\n",
       "      <th>4773</th>\n",
       "      <td>4832</td>\n",
       "      <td>1</td>\n",
       "      <td>1</td>\n",
       "      <td>0</td>\n",
       "      <td>0</td>\n",
       "      <td>0</td>\n",
       "      <td>0</td>\n",
       "      <td>0</td>\n",
       "      <td>0</td>\n",
       "      <td>0</td>\n",
       "      <td>...</td>\n",
       "      <td>0</td>\n",
       "      <td>0</td>\n",
       "      <td>0</td>\n",
       "      <td>0</td>\n",
       "      <td>0</td>\n",
       "      <td>0</td>\n",
       "      <td>0</td>\n",
       "      <td>0</td>\n",
       "      <td>0</td>\n",
       "      <td>Chicken pox</td>\n",
       "    </tr>\n",
       "    <tr>\n",
       "      <th>1310</th>\n",
       "      <td>1369</td>\n",
       "      <td>1</td>\n",
       "      <td>0</td>\n",
       "      <td>0</td>\n",
       "      <td>0</td>\n",
       "      <td>0</td>\n",
       "      <td>0</td>\n",
       "      <td>0</td>\n",
       "      <td>0</td>\n",
       "      <td>0</td>\n",
       "      <td>...</td>\n",
       "      <td>0</td>\n",
       "      <td>0</td>\n",
       "      <td>0</td>\n",
       "      <td>0</td>\n",
       "      <td>0</td>\n",
       "      <td>0</td>\n",
       "      <td>0</td>\n",
       "      <td>0</td>\n",
       "      <td>0</td>\n",
       "      <td>Chronic cholestasis</td>\n",
       "    </tr>\n",
       "    <tr>\n",
       "      <th>4160</th>\n",
       "      <td>4219</td>\n",
       "      <td>0</td>\n",
       "      <td>0</td>\n",
       "      <td>0</td>\n",
       "      <td>0</td>\n",
       "      <td>0</td>\n",
       "      <td>1</td>\n",
       "      <td>0</td>\n",
       "      <td>0</td>\n",
       "      <td>0</td>\n",
       "      <td>...</td>\n",
       "      <td>0</td>\n",
       "      <td>0</td>\n",
       "      <td>0</td>\n",
       "      <td>0</td>\n",
       "      <td>0</td>\n",
       "      <td>0</td>\n",
       "      <td>0</td>\n",
       "      <td>0</td>\n",
       "      <td>0</td>\n",
       "      <td>Typhoid</td>\n",
       "    </tr>\n",
       "    <tr>\n",
       "      <th>3319</th>\n",
       "      <td>3378</td>\n",
       "      <td>0</td>\n",
       "      <td>0</td>\n",
       "      <td>0</td>\n",
       "      <td>0</td>\n",
       "      <td>0</td>\n",
       "      <td>0</td>\n",
       "      <td>0</td>\n",
       "      <td>0</td>\n",
       "      <td>0</td>\n",
       "      <td>...</td>\n",
       "      <td>0</td>\n",
       "      <td>0</td>\n",
       "      <td>0</td>\n",
       "      <td>0</td>\n",
       "      <td>0</td>\n",
       "      <td>0</td>\n",
       "      <td>0</td>\n",
       "      <td>0</td>\n",
       "      <td>0</td>\n",
       "      <td>Urinary tract infection</td>\n",
       "    </tr>\n",
       "  </tbody>\n",
       "</table>\n",
       "<p>5 rows × 134 columns</p>\n",
       "</div>"
      ],
      "text/plain": [
       "        id  itching  skin_rash  nodal_skin_eruptions  continuous_sneezing  \\\n",
       "1804  1863        0          0                     0                    0   \n",
       "4773  4832        1          1                     0                    0   \n",
       "1310  1369        1          0                     0                    0   \n",
       "4160  4219        0          0                     0                    0   \n",
       "3319  3378        0          0                     0                    0   \n",
       "\n",
       "      shivering  chills  joint_pain  stomach_pain  acidity  ...  blackheads  \\\n",
       "1804          0       0           0             0        0  ...           0   \n",
       "4773          0       0           0             0        0  ...           0   \n",
       "1310          0       0           0             0        0  ...           0   \n",
       "4160          0       1           0             0        0  ...           0   \n",
       "3319          0       0           0             0        0  ...           0   \n",
       "\n",
       "      scurring  skin_peeling  silver_like_dusting  small_dents_in_nails  \\\n",
       "1804         0             0                    0                     0   \n",
       "4773         0             0                    0                     0   \n",
       "1310         0             0                    0                     0   \n",
       "4160         0             0                    0                     0   \n",
       "3319         0             0                    0                     0   \n",
       "\n",
       "      inflammatory_nails  blister  red_sore_around_nose  yellow_crust_ooze  \\\n",
       "1804                   0        0                     0                  0   \n",
       "4773                   0        0                     0                  0   \n",
       "1310                   0        0                     0                  0   \n",
       "4160                   0        0                     0                  0   \n",
       "3319                   0        0                     0                  0   \n",
       "\n",
       "                    prognosis  \n",
       "1804     Cervical spondylosis  \n",
       "4773              Chicken pox  \n",
       "1310      Chronic cholestasis  \n",
       "4160                  Typhoid  \n",
       "3319  Urinary tract infection  \n",
       "\n",
       "[5 rows x 134 columns]"
      ]
     },
     "execution_count": 4,
     "metadata": {},
     "output_type": "execute_result"
    }
   ],
   "source": [
    "disease_df.sample(5)"
   ]
  },
  {
   "cell_type": "markdown",
   "id": "d861444b",
   "metadata": {},
   "source": [
    "### 3. Insert data in table from DataFrame"
   ]
  },
  {
   "cell_type": "code",
   "execution_count": 5,
   "id": "e1ad8578",
   "metadata": {},
   "outputs": [
    {
     "name": "stdout",
     "output_type": "stream",
     "text": [
      "[(4962,)]\n",
      "[(101, 'Fungal infection'), (102, 'Fungal infection'), (103, 'Fungal infection'), (104, 'Fungal infection'), (105, 'Fungal infection'), (106, 'Fungal infection'), (107, 'Fungal infection'), (108, 'Fungal infection'), (109, 'Fungal infection')]\n"
     ]
    }
   ],
   "source": [
    "# Inserting data into table\n",
    "\n",
    "conn = sqlite3.connect('disease.db')\n",
    "\n",
    "conn.execute('DELETE FROM DISEASE_PROGNOSIS')\n",
    "disease_df[['id', 'prognosis']].to_sql('DISEASE_PROGNOSIS', conn, if_exists = 'append', index=False)\n",
    "\n",
    "conn.commit()\n",
    "\n",
    "# Get total record count of table\n",
    "c1 = conn.execute('SELECT COUNT(*) FROM DISEASE_PROGNOSIS')\n",
    "print(c1.fetchall())\n",
    "\n",
    "# Get records with Id < 110\n",
    "c2 = conn.execute('SELECT * FROM DISEASE_PROGNOSIS WHERE ID < 110')\n",
    "print(c2.fetchall())\n",
    "\n",
    "conn.close()"
   ]
  },
  {
   "cell_type": "markdown",
   "id": "0d94d89d",
   "metadata": {},
   "source": [
    "### 4. Import data from database and create final DF"
   ]
  },
  {
   "cell_type": "code",
   "execution_count": 6,
   "id": "9208fb25",
   "metadata": {},
   "outputs": [
    {
     "data": {
      "text/html": [
       "<div>\n",
       "<style scoped>\n",
       "    .dataframe tbody tr th:only-of-type {\n",
       "        vertical-align: middle;\n",
       "    }\n",
       "\n",
       "    .dataframe tbody tr th {\n",
       "        vertical-align: top;\n",
       "    }\n",
       "\n",
       "    .dataframe thead th {\n",
       "        text-align: right;\n",
       "    }\n",
       "</style>\n",
       "<table border=\"1\" class=\"dataframe\">\n",
       "  <thead>\n",
       "    <tr style=\"text-align: right;\">\n",
       "      <th></th>\n",
       "      <th>id</th>\n",
       "      <th>prognosis</th>\n",
       "    </tr>\n",
       "  </thead>\n",
       "  <tbody>\n",
       "    <tr>\n",
       "      <th>0</th>\n",
       "      <td>6001</td>\n",
       "      <td>Fungal infection</td>\n",
       "    </tr>\n",
       "    <tr>\n",
       "      <th>1</th>\n",
       "      <td>6002</td>\n",
       "      <td>Allergy</td>\n",
       "    </tr>\n",
       "    <tr>\n",
       "      <th>2</th>\n",
       "      <td>6003</td>\n",
       "      <td>GERD</td>\n",
       "    </tr>\n",
       "    <tr>\n",
       "      <th>3</th>\n",
       "      <td>6004</td>\n",
       "      <td>Chronic cholestasis</td>\n",
       "    </tr>\n",
       "    <tr>\n",
       "      <th>4</th>\n",
       "      <td>6005</td>\n",
       "      <td>Drug Reaction</td>\n",
       "    </tr>\n",
       "  </tbody>\n",
       "</table>\n",
       "</div>"
      ],
      "text/plain": [
       "     id            prognosis\n",
       "0  6001     Fungal infection\n",
       "1  6002              Allergy\n",
       "2  6003                 GERD\n",
       "3  6004  Chronic cholestasis\n",
       "4  6005        Drug Reaction"
      ]
     },
     "execution_count": 6,
     "metadata": {},
     "output_type": "execute_result"
    }
   ],
   "source": [
    "# Import data from SQLite table\n",
    "conn = sqlite3.connect('disease.db')\n",
    "prognosis = conn.execute('SELECT * FROM DISEASE_PROGNOSIS').fetchall()\n",
    "conn.close()\n",
    "\n",
    "# convert result into data frame\n",
    "prognosis_df = pd.DataFrame(prognosis, columns = ['id', 'prognosis'])\n",
    "prognosis_df.head()"
   ]
  },
  {
   "cell_type": "code",
   "execution_count": 7,
   "id": "2657f3a9",
   "metadata": {
    "scrolled": true
   },
   "outputs": [
    {
     "data": {
      "text/html": [
       "<div>\n",
       "<style scoped>\n",
       "    .dataframe tbody tr th:only-of-type {\n",
       "        vertical-align: middle;\n",
       "    }\n",
       "\n",
       "    .dataframe tbody tr th {\n",
       "        vertical-align: top;\n",
       "    }\n",
       "\n",
       "    .dataframe thead th {\n",
       "        text-align: right;\n",
       "    }\n",
       "</style>\n",
       "<table border=\"1\" class=\"dataframe\">\n",
       "  <thead>\n",
       "    <tr style=\"text-align: right;\">\n",
       "      <th></th>\n",
       "      <th>id</th>\n",
       "      <th>itching</th>\n",
       "      <th>skin_rash</th>\n",
       "      <th>nodal_skin_eruptions</th>\n",
       "      <th>continuous_sneezing</th>\n",
       "      <th>shivering</th>\n",
       "      <th>chills</th>\n",
       "      <th>joint_pain</th>\n",
       "      <th>stomach_pain</th>\n",
       "      <th>acidity</th>\n",
       "      <th>...</th>\n",
       "      <th>blackheads</th>\n",
       "      <th>scurring</th>\n",
       "      <th>skin_peeling</th>\n",
       "      <th>silver_like_dusting</th>\n",
       "      <th>small_dents_in_nails</th>\n",
       "      <th>inflammatory_nails</th>\n",
       "      <th>blister</th>\n",
       "      <th>red_sore_around_nose</th>\n",
       "      <th>yellow_crust_ooze</th>\n",
       "      <th>prognosis</th>\n",
       "    </tr>\n",
       "  </thead>\n",
       "  <tbody>\n",
       "    <tr>\n",
       "      <th>0</th>\n",
       "      <td>6001</td>\n",
       "      <td>1</td>\n",
       "      <td>1</td>\n",
       "      <td>1</td>\n",
       "      <td>0</td>\n",
       "      <td>0</td>\n",
       "      <td>0</td>\n",
       "      <td>0</td>\n",
       "      <td>0</td>\n",
       "      <td>0</td>\n",
       "      <td>...</td>\n",
       "      <td>0</td>\n",
       "      <td>0</td>\n",
       "      <td>0</td>\n",
       "      <td>0</td>\n",
       "      <td>0</td>\n",
       "      <td>0</td>\n",
       "      <td>0</td>\n",
       "      <td>0</td>\n",
       "      <td>0</td>\n",
       "      <td>Fungal infection</td>\n",
       "    </tr>\n",
       "    <tr>\n",
       "      <th>1</th>\n",
       "      <td>6002</td>\n",
       "      <td>0</td>\n",
       "      <td>0</td>\n",
       "      <td>0</td>\n",
       "      <td>1</td>\n",
       "      <td>1</td>\n",
       "      <td>1</td>\n",
       "      <td>0</td>\n",
       "      <td>0</td>\n",
       "      <td>0</td>\n",
       "      <td>...</td>\n",
       "      <td>0</td>\n",
       "      <td>0</td>\n",
       "      <td>0</td>\n",
       "      <td>0</td>\n",
       "      <td>0</td>\n",
       "      <td>0</td>\n",
       "      <td>0</td>\n",
       "      <td>0</td>\n",
       "      <td>0</td>\n",
       "      <td>Allergy</td>\n",
       "    </tr>\n",
       "    <tr>\n",
       "      <th>2</th>\n",
       "      <td>6003</td>\n",
       "      <td>0</td>\n",
       "      <td>0</td>\n",
       "      <td>0</td>\n",
       "      <td>0</td>\n",
       "      <td>0</td>\n",
       "      <td>0</td>\n",
       "      <td>0</td>\n",
       "      <td>1</td>\n",
       "      <td>1</td>\n",
       "      <td>...</td>\n",
       "      <td>0</td>\n",
       "      <td>0</td>\n",
       "      <td>0</td>\n",
       "      <td>0</td>\n",
       "      <td>0</td>\n",
       "      <td>0</td>\n",
       "      <td>0</td>\n",
       "      <td>0</td>\n",
       "      <td>0</td>\n",
       "      <td>GERD</td>\n",
       "    </tr>\n",
       "    <tr>\n",
       "      <th>3</th>\n",
       "      <td>6004</td>\n",
       "      <td>1</td>\n",
       "      <td>0</td>\n",
       "      <td>0</td>\n",
       "      <td>0</td>\n",
       "      <td>0</td>\n",
       "      <td>0</td>\n",
       "      <td>0</td>\n",
       "      <td>0</td>\n",
       "      <td>0</td>\n",
       "      <td>...</td>\n",
       "      <td>0</td>\n",
       "      <td>0</td>\n",
       "      <td>0</td>\n",
       "      <td>0</td>\n",
       "      <td>0</td>\n",
       "      <td>0</td>\n",
       "      <td>0</td>\n",
       "      <td>0</td>\n",
       "      <td>0</td>\n",
       "      <td>Chronic cholestasis</td>\n",
       "    </tr>\n",
       "    <tr>\n",
       "      <th>4</th>\n",
       "      <td>6005</td>\n",
       "      <td>1</td>\n",
       "      <td>1</td>\n",
       "      <td>0</td>\n",
       "      <td>0</td>\n",
       "      <td>0</td>\n",
       "      <td>0</td>\n",
       "      <td>0</td>\n",
       "      <td>1</td>\n",
       "      <td>0</td>\n",
       "      <td>...</td>\n",
       "      <td>0</td>\n",
       "      <td>0</td>\n",
       "      <td>0</td>\n",
       "      <td>0</td>\n",
       "      <td>0</td>\n",
       "      <td>0</td>\n",
       "      <td>0</td>\n",
       "      <td>0</td>\n",
       "      <td>0</td>\n",
       "      <td>Drug Reaction</td>\n",
       "    </tr>\n",
       "  </tbody>\n",
       "</table>\n",
       "<p>5 rows × 134 columns</p>\n",
       "</div>"
      ],
      "text/plain": [
       "     id  itching  skin_rash  nodal_skin_eruptions  continuous_sneezing  \\\n",
       "0  6001        1          1                     1                    0   \n",
       "1  6002        0          0                     0                    1   \n",
       "2  6003        0          0                     0                    0   \n",
       "3  6004        1          0                     0                    0   \n",
       "4  6005        1          1                     0                    0   \n",
       "\n",
       "   shivering  chills  joint_pain  stomach_pain  acidity  ...  blackheads  \\\n",
       "0          0       0           0             0        0  ...           0   \n",
       "1          1       1           0             0        0  ...           0   \n",
       "2          0       0           0             1        1  ...           0   \n",
       "3          0       0           0             0        0  ...           0   \n",
       "4          0       0           0             1        0  ...           0   \n",
       "\n",
       "   scurring  skin_peeling  silver_like_dusting  small_dents_in_nails  \\\n",
       "0         0             0                    0                     0   \n",
       "1         0             0                    0                     0   \n",
       "2         0             0                    0                     0   \n",
       "3         0             0                    0                     0   \n",
       "4         0             0                    0                     0   \n",
       "\n",
       "   inflammatory_nails  blister  red_sore_around_nose  yellow_crust_ooze  \\\n",
       "0                   0        0                     0                  0   \n",
       "1                   0        0                     0                  0   \n",
       "2                   0        0                     0                  0   \n",
       "3                   0        0                     0                  0   \n",
       "4                   0        0                     0                  0   \n",
       "\n",
       "             prognosis  \n",
       "0     Fungal infection  \n",
       "1              Allergy  \n",
       "2                 GERD  \n",
       "3  Chronic cholestasis  \n",
       "4        Drug Reaction  \n",
       "\n",
       "[5 rows x 134 columns]"
      ]
     },
     "execution_count": 7,
     "metadata": {},
     "output_type": "execute_result"
    }
   ],
   "source": [
    "# Remove \"prognosis\" column from original data\n",
    "disease_df_prog = disease_df.drop(['prognosis'], axis = 1)\n",
    "\n",
    "# merge prognosis data frame into the main data frame using matching column (\"id\")\n",
    "merged_data = pd.merge(disease_df_prog, prognosis_df)\n",
    "merged_data.head()"
   ]
  },
  {
   "cell_type": "code",
   "execution_count": 8,
   "id": "446aface",
   "metadata": {
    "scrolled": true
   },
   "outputs": [
    {
     "data": {
      "text/html": [
       "<div>\n",
       "<style scoped>\n",
       "    .dataframe tbody tr th:only-of-type {\n",
       "        vertical-align: middle;\n",
       "    }\n",
       "\n",
       "    .dataframe tbody tr th {\n",
       "        vertical-align: top;\n",
       "    }\n",
       "\n",
       "    .dataframe thead th {\n",
       "        text-align: right;\n",
       "    }\n",
       "</style>\n",
       "<table border=\"1\" class=\"dataframe\">\n",
       "  <thead>\n",
       "    <tr style=\"text-align: right;\">\n",
       "      <th></th>\n",
       "      <th></th>\n",
       "    </tr>\n",
       "  </thead>\n",
       "  <tbody>\n",
       "  </tbody>\n",
       "</table>\n",
       "</div>"
      ],
      "text/plain": [
       "Empty DataFrame\n",
       "Columns: []\n",
       "Index: []"
      ]
     },
     "execution_count": 8,
     "metadata": {},
     "output_type": "execute_result"
    }
   ],
   "source": [
    "# compare the original and merged data frame\n",
    "disease_df.compare(merged_data, align_axis = 0)"
   ]
  },
  {
   "cell_type": "markdown",
   "id": "9e8e41c0",
   "metadata": {},
   "source": [
    "## Preparing Dataset"
   ]
  },
  {
   "cell_type": "markdown",
   "id": "bb2a6ee2",
   "metadata": {},
   "source": [
    "### 1. Cleaning Data"
   ]
  },
  {
   "cell_type": "code",
   "execution_count": 9,
   "id": "ecdbe106",
   "metadata": {},
   "outputs": [
    {
     "data": {
      "text/plain": [
       "Series([], dtype: int64)"
      ]
     },
     "execution_count": 9,
     "metadata": {},
     "output_type": "execute_result"
    }
   ],
   "source": [
    "# check for missing values\n",
    "missing_data = disease_df.isna().sum()\n",
    "missing_data[missing_data > 0]\n",
    "\n",
    "# There is no missing data"
   ]
  },
  {
   "cell_type": "code",
   "execution_count": 10,
   "id": "175716d7",
   "metadata": {},
   "outputs": [
    {
     "data": {
      "text/html": [
       "<div>\n",
       "<style scoped>\n",
       "    .dataframe tbody tr th:only-of-type {\n",
       "        vertical-align: middle;\n",
       "    }\n",
       "\n",
       "    .dataframe tbody tr th {\n",
       "        vertical-align: top;\n",
       "    }\n",
       "\n",
       "    .dataframe thead th {\n",
       "        text-align: right;\n",
       "    }\n",
       "</style>\n",
       "<table border=\"1\" class=\"dataframe\">\n",
       "  <thead>\n",
       "    <tr style=\"text-align: right;\">\n",
       "      <th></th>\n",
       "      <th>id</th>\n",
       "      <th>itching</th>\n",
       "      <th>skin_rash</th>\n",
       "      <th>nodal_skin_eruptions</th>\n",
       "      <th>continuous_sneezing</th>\n",
       "      <th>shivering</th>\n",
       "      <th>chills</th>\n",
       "      <th>joint_pain</th>\n",
       "      <th>stomach_pain</th>\n",
       "      <th>acidity</th>\n",
       "      <th>...</th>\n",
       "      <th>blackheads</th>\n",
       "      <th>scurring</th>\n",
       "      <th>skin_peeling</th>\n",
       "      <th>silver_like_dusting</th>\n",
       "      <th>small_dents_in_nails</th>\n",
       "      <th>inflammatory_nails</th>\n",
       "      <th>blister</th>\n",
       "      <th>red_sore_around_nose</th>\n",
       "      <th>yellow_crust_ooze</th>\n",
       "      <th>prognosis</th>\n",
       "    </tr>\n",
       "  </thead>\n",
       "  <tbody>\n",
       "  </tbody>\n",
       "</table>\n",
       "<p>0 rows × 134 columns</p>\n",
       "</div>"
      ],
      "text/plain": [
       "Empty DataFrame\n",
       "Columns: [id, itching, skin_rash, nodal_skin_eruptions, continuous_sneezing, shivering, chills, joint_pain, stomach_pain, acidity, ulcers_on_tongue, muscle_wasting, vomiting, burning_micturition, spotting_ urination, fatigue, weight_gain, anxiety, cold_hands_and_feets, mood_swings, weight_loss, restlessness, lethargy, patches_in_throat, irregular_sugar_level, cough, high_fever, sunken_eyes, breathlessness, sweating, dehydration, indigestion, headache, yellowish_skin, dark_urine, nausea, loss_of_appetite, pain_behind_the_eyes, back_pain, constipation, abdominal_pain, diarrhoea, mild_fever, yellow_urine, yellowing_of_eyes, acute_liver_failure, fluid_overload, swelling_of_stomach, swelled_lymph_nodes, malaise, blurred_and_distorted_vision, phlegm, throat_irritation, redness_of_eyes, sinus_pressure, runny_nose, congestion, chest_pain, weakness_in_limbs, fast_heart_rate, pain_during_bowel_movements, pain_in_anal_region, bloody_stool, irritation_in_anus, neck_pain, dizziness, cramps, bruising, obesity, swollen_legs, swollen_blood_vessels, puffy_face_and_eyes, enlarged_thyroid, brittle_nails, swollen_extremeties, excessive_hunger, extra_marital_contacts, drying_and_tingling_lips, slurred_speech, knee_pain, hip_joint_pain, muscle_weakness, stiff_neck, swelling_joints, movement_stiffness, spinning_movements, loss_of_balance, unsteadiness, weakness_of_one_body_side, loss_of_smell, bladder_discomfort, foul_smell_of urine, continuous_feel_of_urine, passage_of_gases, internal_itching, toxic_look_(typhos), depression, irritability, muscle_pain, altered_sensorium, ...]\n",
       "Index: []\n",
       "\n",
       "[0 rows x 134 columns]"
      ]
     },
     "execution_count": 10,
     "metadata": {},
     "output_type": "execute_result"
    }
   ],
   "source": [
    "# Check for duplicate records in data\n",
    "disease_df[disease_df.duplicated()]\n",
    "\n",
    "# There is no duplicate data in DF"
   ]
  },
  {
   "cell_type": "code",
   "execution_count": 11,
   "id": "3f5b0c7e",
   "metadata": {},
   "outputs": [
    {
     "data": {
      "text/html": [
       "<div>\n",
       "<style scoped>\n",
       "    .dataframe tbody tr th:only-of-type {\n",
       "        vertical-align: middle;\n",
       "    }\n",
       "\n",
       "    .dataframe tbody tr th {\n",
       "        vertical-align: top;\n",
       "    }\n",
       "\n",
       "    .dataframe thead th {\n",
       "        text-align: right;\n",
       "    }\n",
       "</style>\n",
       "<table border=\"1\" class=\"dataframe\">\n",
       "  <thead>\n",
       "    <tr style=\"text-align: right;\">\n",
       "      <th></th>\n",
       "      <th>id</th>\n",
       "      <th>itching</th>\n",
       "      <th>skin_rash</th>\n",
       "      <th>nodal_skin_eruptions</th>\n",
       "      <th>continuous_sneezing</th>\n",
       "      <th>shivering</th>\n",
       "      <th>chills</th>\n",
       "      <th>joint_pain</th>\n",
       "      <th>stomach_pain</th>\n",
       "      <th>acidity</th>\n",
       "      <th>...</th>\n",
       "      <th>pus_filled_pimples</th>\n",
       "      <th>blackheads</th>\n",
       "      <th>scurring</th>\n",
       "      <th>skin_peeling</th>\n",
       "      <th>silver_like_dusting</th>\n",
       "      <th>small_dents_in_nails</th>\n",
       "      <th>inflammatory_nails</th>\n",
       "      <th>blister</th>\n",
       "      <th>red_sore_around_nose</th>\n",
       "      <th>yellow_crust_ooze</th>\n",
       "    </tr>\n",
       "  </thead>\n",
       "  <tbody>\n",
       "    <tr>\n",
       "      <th>count</th>\n",
       "      <td>4962.000000</td>\n",
       "      <td>4962.000000</td>\n",
       "      <td>4962.000000</td>\n",
       "      <td>4962.000000</td>\n",
       "      <td>4962.000000</td>\n",
       "      <td>4962.000000</td>\n",
       "      <td>4962.000000</td>\n",
       "      <td>4962.000000</td>\n",
       "      <td>4962.000000</td>\n",
       "      <td>4962.000000</td>\n",
       "      <td>...</td>\n",
       "      <td>4962.000000</td>\n",
       "      <td>4962.000000</td>\n",
       "      <td>4962.000000</td>\n",
       "      <td>4962.000000</td>\n",
       "      <td>4962.000000</td>\n",
       "      <td>4962.000000</td>\n",
       "      <td>4962.000000</td>\n",
       "      <td>4962.000000</td>\n",
       "      <td>4962.000000</td>\n",
       "      <td>4962.000000</td>\n",
       "    </tr>\n",
       "    <tr>\n",
       "      <th>mean</th>\n",
       "      <td>2589.795042</td>\n",
       "      <td>0.138049</td>\n",
       "      <td>0.160016</td>\n",
       "      <td>0.021967</td>\n",
       "      <td>0.045143</td>\n",
       "      <td>0.021967</td>\n",
       "      <td>0.162233</td>\n",
       "      <td>0.139057</td>\n",
       "      <td>0.045143</td>\n",
       "      <td>0.045143</td>\n",
       "      <td>...</td>\n",
       "      <td>0.021967</td>\n",
       "      <td>0.021967</td>\n",
       "      <td>0.021967</td>\n",
       "      <td>0.023378</td>\n",
       "      <td>0.023176</td>\n",
       "      <td>0.023176</td>\n",
       "      <td>0.023176</td>\n",
       "      <td>0.023176</td>\n",
       "      <td>0.023378</td>\n",
       "      <td>0.023176</td>\n",
       "    </tr>\n",
       "    <tr>\n",
       "      <th>std</th>\n",
       "      <td>1449.511053</td>\n",
       "      <td>0.344986</td>\n",
       "      <td>0.366658</td>\n",
       "      <td>0.146590</td>\n",
       "      <td>0.207639</td>\n",
       "      <td>0.146590</td>\n",
       "      <td>0.368702</td>\n",
       "      <td>0.346041</td>\n",
       "      <td>0.207639</td>\n",
       "      <td>0.207639</td>\n",
       "      <td>...</td>\n",
       "      <td>0.146590</td>\n",
       "      <td>0.146590</td>\n",
       "      <td>0.146590</td>\n",
       "      <td>0.151115</td>\n",
       "      <td>0.150478</td>\n",
       "      <td>0.150478</td>\n",
       "      <td>0.150478</td>\n",
       "      <td>0.150478</td>\n",
       "      <td>0.151115</td>\n",
       "      <td>0.150478</td>\n",
       "    </tr>\n",
       "    <tr>\n",
       "      <th>min</th>\n",
       "      <td>101.000000</td>\n",
       "      <td>0.000000</td>\n",
       "      <td>0.000000</td>\n",
       "      <td>0.000000</td>\n",
       "      <td>0.000000</td>\n",
       "      <td>0.000000</td>\n",
       "      <td>0.000000</td>\n",
       "      <td>0.000000</td>\n",
       "      <td>0.000000</td>\n",
       "      <td>0.000000</td>\n",
       "      <td>...</td>\n",
       "      <td>0.000000</td>\n",
       "      <td>0.000000</td>\n",
       "      <td>0.000000</td>\n",
       "      <td>0.000000</td>\n",
       "      <td>0.000000</td>\n",
       "      <td>0.000000</td>\n",
       "      <td>0.000000</td>\n",
       "      <td>0.000000</td>\n",
       "      <td>0.000000</td>\n",
       "      <td>0.000000</td>\n",
       "    </tr>\n",
       "    <tr>\n",
       "      <th>25%</th>\n",
       "      <td>1341.250000</td>\n",
       "      <td>0.000000</td>\n",
       "      <td>0.000000</td>\n",
       "      <td>0.000000</td>\n",
       "      <td>0.000000</td>\n",
       "      <td>0.000000</td>\n",
       "      <td>0.000000</td>\n",
       "      <td>0.000000</td>\n",
       "      <td>0.000000</td>\n",
       "      <td>0.000000</td>\n",
       "      <td>...</td>\n",
       "      <td>0.000000</td>\n",
       "      <td>0.000000</td>\n",
       "      <td>0.000000</td>\n",
       "      <td>0.000000</td>\n",
       "      <td>0.000000</td>\n",
       "      <td>0.000000</td>\n",
       "      <td>0.000000</td>\n",
       "      <td>0.000000</td>\n",
       "      <td>0.000000</td>\n",
       "      <td>0.000000</td>\n",
       "    </tr>\n",
       "    <tr>\n",
       "      <th>50%</th>\n",
       "      <td>2581.500000</td>\n",
       "      <td>0.000000</td>\n",
       "      <td>0.000000</td>\n",
       "      <td>0.000000</td>\n",
       "      <td>0.000000</td>\n",
       "      <td>0.000000</td>\n",
       "      <td>0.000000</td>\n",
       "      <td>0.000000</td>\n",
       "      <td>0.000000</td>\n",
       "      <td>0.000000</td>\n",
       "      <td>...</td>\n",
       "      <td>0.000000</td>\n",
       "      <td>0.000000</td>\n",
       "      <td>0.000000</td>\n",
       "      <td>0.000000</td>\n",
       "      <td>0.000000</td>\n",
       "      <td>0.000000</td>\n",
       "      <td>0.000000</td>\n",
       "      <td>0.000000</td>\n",
       "      <td>0.000000</td>\n",
       "      <td>0.000000</td>\n",
       "    </tr>\n",
       "    <tr>\n",
       "      <th>75%</th>\n",
       "      <td>3821.750000</td>\n",
       "      <td>0.000000</td>\n",
       "      <td>0.000000</td>\n",
       "      <td>0.000000</td>\n",
       "      <td>0.000000</td>\n",
       "      <td>0.000000</td>\n",
       "      <td>0.000000</td>\n",
       "      <td>0.000000</td>\n",
       "      <td>0.000000</td>\n",
       "      <td>0.000000</td>\n",
       "      <td>...</td>\n",
       "      <td>0.000000</td>\n",
       "      <td>0.000000</td>\n",
       "      <td>0.000000</td>\n",
       "      <td>0.000000</td>\n",
       "      <td>0.000000</td>\n",
       "      <td>0.000000</td>\n",
       "      <td>0.000000</td>\n",
       "      <td>0.000000</td>\n",
       "      <td>0.000000</td>\n",
       "      <td>0.000000</td>\n",
       "    </tr>\n",
       "    <tr>\n",
       "      <th>max</th>\n",
       "      <td>6042.000000</td>\n",
       "      <td>1.000000</td>\n",
       "      <td>1.000000</td>\n",
       "      <td>1.000000</td>\n",
       "      <td>1.000000</td>\n",
       "      <td>1.000000</td>\n",
       "      <td>1.000000</td>\n",
       "      <td>1.000000</td>\n",
       "      <td>1.000000</td>\n",
       "      <td>1.000000</td>\n",
       "      <td>...</td>\n",
       "      <td>1.000000</td>\n",
       "      <td>1.000000</td>\n",
       "      <td>1.000000</td>\n",
       "      <td>1.000000</td>\n",
       "      <td>1.000000</td>\n",
       "      <td>1.000000</td>\n",
       "      <td>1.000000</td>\n",
       "      <td>1.000000</td>\n",
       "      <td>1.000000</td>\n",
       "      <td>1.000000</td>\n",
       "    </tr>\n",
       "  </tbody>\n",
       "</table>\n",
       "<p>8 rows × 133 columns</p>\n",
       "</div>"
      ],
      "text/plain": [
       "                id      itching    skin_rash  nodal_skin_eruptions  \\\n",
       "count  4962.000000  4962.000000  4962.000000           4962.000000   \n",
       "mean   2589.795042     0.138049     0.160016              0.021967   \n",
       "std    1449.511053     0.344986     0.366658              0.146590   \n",
       "min     101.000000     0.000000     0.000000              0.000000   \n",
       "25%    1341.250000     0.000000     0.000000              0.000000   \n",
       "50%    2581.500000     0.000000     0.000000              0.000000   \n",
       "75%    3821.750000     0.000000     0.000000              0.000000   \n",
       "max    6042.000000     1.000000     1.000000              1.000000   \n",
       "\n",
       "       continuous_sneezing    shivering       chills   joint_pain  \\\n",
       "count          4962.000000  4962.000000  4962.000000  4962.000000   \n",
       "mean              0.045143     0.021967     0.162233     0.139057   \n",
       "std               0.207639     0.146590     0.368702     0.346041   \n",
       "min               0.000000     0.000000     0.000000     0.000000   \n",
       "25%               0.000000     0.000000     0.000000     0.000000   \n",
       "50%               0.000000     0.000000     0.000000     0.000000   \n",
       "75%               0.000000     0.000000     0.000000     0.000000   \n",
       "max               1.000000     1.000000     1.000000     1.000000   \n",
       "\n",
       "       stomach_pain      acidity  ...  pus_filled_pimples   blackheads  \\\n",
       "count   4962.000000  4962.000000  ...         4962.000000  4962.000000   \n",
       "mean       0.045143     0.045143  ...            0.021967     0.021967   \n",
       "std        0.207639     0.207639  ...            0.146590     0.146590   \n",
       "min        0.000000     0.000000  ...            0.000000     0.000000   \n",
       "25%        0.000000     0.000000  ...            0.000000     0.000000   \n",
       "50%        0.000000     0.000000  ...            0.000000     0.000000   \n",
       "75%        0.000000     0.000000  ...            0.000000     0.000000   \n",
       "max        1.000000     1.000000  ...            1.000000     1.000000   \n",
       "\n",
       "          scurring  skin_peeling  silver_like_dusting  small_dents_in_nails  \\\n",
       "count  4962.000000   4962.000000          4962.000000           4962.000000   \n",
       "mean      0.021967      0.023378             0.023176              0.023176   \n",
       "std       0.146590      0.151115             0.150478              0.150478   \n",
       "min       0.000000      0.000000             0.000000              0.000000   \n",
       "25%       0.000000      0.000000             0.000000              0.000000   \n",
       "50%       0.000000      0.000000             0.000000              0.000000   \n",
       "75%       0.000000      0.000000             0.000000              0.000000   \n",
       "max       1.000000      1.000000             1.000000              1.000000   \n",
       "\n",
       "       inflammatory_nails      blister  red_sore_around_nose  \\\n",
       "count         4962.000000  4962.000000           4962.000000   \n",
       "mean             0.023176     0.023176              0.023378   \n",
       "std              0.150478     0.150478              0.151115   \n",
       "min              0.000000     0.000000              0.000000   \n",
       "25%              0.000000     0.000000              0.000000   \n",
       "50%              0.000000     0.000000              0.000000   \n",
       "75%              0.000000     0.000000              0.000000   \n",
       "max              1.000000     1.000000              1.000000   \n",
       "\n",
       "       yellow_crust_ooze  \n",
       "count        4962.000000  \n",
       "mean            0.023176  \n",
       "std             0.150478  \n",
       "min             0.000000  \n",
       "25%             0.000000  \n",
       "50%             0.000000  \n",
       "75%             0.000000  \n",
       "max             1.000000  \n",
       "\n",
       "[8 rows x 133 columns]"
      ]
     },
     "execution_count": 11,
     "metadata": {},
     "output_type": "execute_result"
    }
   ],
   "source": [
    "disease_df.describe()"
   ]
  },
  {
   "cell_type": "code",
   "execution_count": 12,
   "id": "11e2b964",
   "metadata": {},
   "outputs": [
    {
     "name": "stderr",
     "output_type": "stream",
     "text": [
      "C:\\Users\\Dell\\anaconda3\\lib\\site-packages\\seaborn\\_decorators.py:36: FutureWarning: Pass the following variable as a keyword arg: x. From version 0.12, the only valid positional argument will be `data`, and passing other arguments without an explicit keyword will result in an error or misinterpretation.\n",
      "  warnings.warn(\n"
     ]
    },
    {
     "data": {
      "image/png": "[encoded data removed]",
      "text/plain": [
       "<Figure size 1080x360 with 1 Axes>"
      ]
     },
     "metadata": {
      "needs_background": "light"
     },
     "output_type": "display_data"
    }
   ],
   "source": [
    "# Check the distribution of target values in data\n",
    "#disease_df['prognosis'].value_counts()\n",
    "\n",
    "fig, ax = plt.subplots(figsize = (15, 5))\n",
    "sns.countplot(disease_df['prognosis'])\n",
    "plt.xticks(rotation=90)\n",
    "plt.show()"
   ]
  },
  {
   "cell_type": "markdown",
   "id": "b44190cc",
   "metadata": {},
   "source": [
    "### 2. Prepare training and test sets"
   ]
  },
  {
   "cell_type": "code",
   "execution_count": 13,
   "id": "9223f45e",
   "metadata": {},
   "outputs": [
    {
     "data": {
      "text/plain": [
       "array(['Fungal infection', 'Allergy', 'GERD', 'Chronic cholestasis',\n",
       "       'Drug Reaction', 'Peptic ulcer diseae', 'AIDS', 'Diabetes ',\n",
       "       'Gastroenteritis', 'Bronchial Asthma', 'Hypertension ', 'Migraine',\n",
       "       'Cervical spondylosis', 'Paralysis (brain hemorrhage)', 'Jaundice',\n",
       "       'Malaria', 'Chicken pox', 'Dengue', 'Typhoid', 'hepatitis A',\n",
       "       'Hepatitis B', 'Hepatitis C', 'Hepatitis D', 'Hepatitis E',\n",
       "       'Alcoholic hepatitis', 'Tuberculosis', 'Common Cold', 'Pneumonia',\n",
       "       'Dimorphic hemmorhoids(piles)', 'Heart attack', 'Varicose veins',\n",
       "       'Hypothyroidism', 'Hyperthyroidism', 'Hypoglycemia',\n",
       "       'Osteoarthristis', 'Arthritis',\n",
       "       '(vertigo) Paroymsal  Positional Vertigo', 'Acne',\n",
       "       'Urinary tract infection', 'Psoriasis', 'Impetigo'], dtype=object)"
      ]
     },
     "execution_count": 13,
     "metadata": {},
     "output_type": "execute_result"
    }
   ],
   "source": [
    "# Check values for target feature\n",
    "disease_df['prognosis'].unique()"
   ]
  },
  {
   "cell_type": "code",
   "execution_count": 14,
   "id": "142bf0d3",
   "metadata": {},
   "outputs": [
    {
     "data": {
      "text/html": [
       "<div>\n",
       "<style scoped>\n",
       "    .dataframe tbody tr th:only-of-type {\n",
       "        vertical-align: middle;\n",
       "    }\n",
       "\n",
       "    .dataframe tbody tr th {\n",
       "        vertical-align: top;\n",
       "    }\n",
       "\n",
       "    .dataframe thead th {\n",
       "        text-align: right;\n",
       "    }\n",
       "</style>\n",
       "<table border=\"1\" class=\"dataframe\">\n",
       "  <thead>\n",
       "    <tr style=\"text-align: right;\">\n",
       "      <th></th>\n",
       "      <th>prognosis</th>\n",
       "      <th>prognosis_num</th>\n",
       "    </tr>\n",
       "  </thead>\n",
       "  <tbody>\n",
       "    <tr>\n",
       "      <th>0</th>\n",
       "      <td>Fungal infection</td>\n",
       "      <td>15</td>\n",
       "    </tr>\n",
       "    <tr>\n",
       "      <th>1</th>\n",
       "      <td>Allergy</td>\n",
       "      <td>4</td>\n",
       "    </tr>\n",
       "    <tr>\n",
       "      <th>2</th>\n",
       "      <td>GERD</td>\n",
       "      <td>16</td>\n",
       "    </tr>\n",
       "    <tr>\n",
       "      <th>3</th>\n",
       "      <td>Chronic cholestasis</td>\n",
       "      <td>9</td>\n",
       "    </tr>\n",
       "    <tr>\n",
       "      <th>4</th>\n",
       "      <td>Drug Reaction</td>\n",
       "      <td>14</td>\n",
       "    </tr>\n",
       "  </tbody>\n",
       "</table>\n",
       "</div>"
      ],
      "text/plain": [
       "             prognosis  prognosis_num\n",
       "0     Fungal infection             15\n",
       "1              Allergy              4\n",
       "2                 GERD             16\n",
       "3  Chronic cholestasis              9\n",
       "4        Drug Reaction             14"
      ]
     },
     "execution_count": 14,
     "metadata": {},
     "output_type": "execute_result"
    }
   ],
   "source": [
    "# Convert categorical values to numeric\n",
    "disease_df['prognosis'] = disease_df['prognosis'].astype('category')\n",
    "disease_df['prognosis_num'] = disease_df['prognosis'].cat.codes\n",
    "disease_df[['prognosis','prognosis_num']].head()"
   ]
  },
  {
   "cell_type": "code",
   "execution_count": 15,
   "id": "450d1d70",
   "metadata": {},
   "outputs": [
    {
     "data": {
      "text/plain": [
       "dict_keys([(0, '(vertigo) Paroymsal  Positional Vertigo'), (1, 'AIDS'), (2, 'Acne'), (3, 'Alcoholic hepatitis'), (4, 'Allergy'), (5, 'Arthritis'), (6, 'Bronchial Asthma'), (7, 'Cervical spondylosis'), (8, 'Chicken pox'), (9, 'Chronic cholestasis'), (10, 'Common Cold'), (11, 'Dengue'), (12, 'Diabetes '), (13, 'Dimorphic hemmorhoids(piles)'), (14, 'Drug Reaction'), (15, 'Fungal infection'), (16, 'GERD'), (17, 'Gastroenteritis'), (18, 'Heart attack'), (19, 'Hepatitis B'), (20, 'Hepatitis C'), (21, 'Hepatitis D'), (22, 'Hepatitis E'), (23, 'Hypertension '), (24, 'Hyperthyroidism'), (25, 'Hypoglycemia'), (26, 'Hypothyroidism'), (27, 'Impetigo'), (28, 'Jaundice'), (29, 'Malaria'), (30, 'Migraine'), (31, 'Osteoarthristis'), (32, 'Paralysis (brain hemorrhage)'), (33, 'Peptic ulcer diseae'), (34, 'Pneumonia'), (35, 'Psoriasis'), (36, 'Tuberculosis'), (37, 'Typhoid'), (38, 'Urinary tract infection'), (39, 'Varicose veins'), (40, 'hepatitis A')])"
      ]
     },
     "execution_count": 15,
     "metadata": {},
     "output_type": "execute_result"
    }
   ],
   "source": [
    "# Check Unique values\n",
    "disease_df[['prognosis_num','prognosis']].groupby(['prognosis_num','prognosis']).groups.keys()"
   ]
  },
  {
   "cell_type": "code",
   "execution_count": 16,
   "id": "4dfda50c",
   "metadata": {},
   "outputs": [
    {
     "data": {
      "text/plain": [
       "['AIDS']\n",
       "Categories (41, object): ['(vertigo) Paroymsal  Positional Vertigo', 'AIDS', 'Acne', 'Alcoholic hepatitis', ..., 'Typhoid', 'Urinary tract infection', 'Varicose veins', 'hepatitis A']"
      ]
     },
     "execution_count": 16,
     "metadata": {},
     "output_type": "execute_result"
    }
   ],
   "source": [
    "disease_df[disease_df['prognosis_num'] == 1]['prognosis'].unique()"
   ]
  },
  {
   "cell_type": "code",
   "execution_count": 17,
   "id": "fbd71e05",
   "metadata": {},
   "outputs": [],
   "source": [
    "# Use OneHotEncoding for categorical column\n",
    "#disease_df_new = disease_df.drop('prognosis', axis=1)\n",
    "#encoder = OneHotEncoder()\n",
    "#disease_df_enc = pd.DataFrame(encoder.fit_transform(disease_df_new[['prognosis_num']]).toarray())\n",
    "#disease_df_new.head()\n",
    "\n",
    "# combining encoded DF with original DF\n",
    "#encoded_df = disease_df_new.join(disease_df_enc)\n",
    "#encoded_df.head()"
   ]
  },
  {
   "cell_type": "code",
   "execution_count": 18,
   "id": "3cd20211",
   "metadata": {},
   "outputs": [
    {
     "data": {
      "text/plain": [
       "((3969, 133), (993, 133))"
      ]
     },
     "execution_count": 18,
     "metadata": {},
     "output_type": "execute_result"
    }
   ],
   "source": [
    "# prepare features and target\n",
    "X = disease_df.drop(['prognosis', 'prognosis_num'], axis=1)\n",
    "y = disease_df['prognosis_num']\n",
    "\n",
    "# Split training and test set\n",
    "X_train, X_test, y_train, y_test = train_test_split(X, y, test_size = 0.2, random_state = 12)\n",
    "\n",
    "X_train.shape , X_test.shape"
   ]
  },
  {
   "cell_type": "markdown",
   "id": "88e60adc",
   "metadata": {},
   "source": [
    "## Build ML Model"
   ]
  },
  {
   "cell_type": "markdown",
   "id": "a249745f",
   "metadata": {},
   "source": [
    "### 1. Logictic Regression"
   ]
  },
  {
   "cell_type": "code",
   "execution_count": 252,
   "id": "51713d51",
   "metadata": {},
   "outputs": [],
   "source": [
    "models_stats = []\n",
    "\n",
    "# Create a function to build ML model\n",
    "\n",
    "def build_model(classifier_name, model, x_train, y_train, x_test, y_test):\n",
    "    model.fit(x_train, y_train)\n",
    "    #print('Training Score: ', model.score(x_train, y_train))\n",
    "    \n",
    "    # predict for test set\n",
    "    pred = model.predict(x_test)\n",
    "    \n",
    "    acc_score = accuracy_score(y_test, pred)\n",
    "    prec_score = precision_score(y_test, pred, average='weighted')\n",
    "    recal_score = recall_score(y_test, pred, average='weighted')\n",
    "    f_1_score = f1_score(y_test, pred, average='weighted')\n",
    "    \n",
    "    models_stats.append([classifier_name, acc_score, prec_score, recal_score, f_1_score])\n",
    "    \n",
    "    print('Accuracy  : ', acc_score)\n",
    "    print('Precision : ', prec_score)\n",
    "    print('Recall    : ', recal_score)\n",
    "    print('F1-score  : ', f_1_score)\n",
    "    \n",
    "    return pred"
   ]
  },
  {
   "cell_type": "code",
   "execution_count": 253,
   "id": "4423a465",
   "metadata": {
    "scrolled": false
   },
   "outputs": [
    {
     "name": "stdout",
     "output_type": "stream",
     "text": [
      "Accuracy  :  0.9959718026183283\n",
      "Precision :  0.9963897280966767\n",
      "Recall    :  0.9959718026183283\n",
      "F1-score  :  0.9959216556713321\n"
     ]
    },
    {
     "name": "stderr",
     "output_type": "stream",
     "text": [
      "C:\\Users\\Dell\\anaconda3\\lib\\site-packages\\sklearn\\linear_model\\_logistic.py:814: ConvergenceWarning: lbfgs failed to converge (status=1):\n",
      "STOP: TOTAL NO. of ITERATIONS REACHED LIMIT.\n",
      "\n",
      "Increase the number of iterations (max_iter) or scale the data as shown in:\n",
      "    https://scikit-learn.org/stable/modules/preprocessing.html\n",
      "Please also refer to the documentation for alternative solver options:\n",
      "    https://scikit-learn.org/stable/modules/linear_model.html#logistic-regression\n",
      "  n_iter_i = _check_optimize_result(\n"
     ]
    }
   ],
   "source": [
    "# call function to build logistic regression model\n",
    "lr = LogisticRegression()\n",
    "\n",
    "y_pred = build_model('Logistic Regression', lr, X_train, y_train, X_test, y_test)"
   ]
  },
  {
   "cell_type": "code",
   "execution_count": 254,
   "id": "30c70b77",
   "metadata": {},
   "outputs": [
    {
     "data": {
      "text/plain": [
       "[['Logistic Regression',\n",
       "  0.9959718026183283,\n",
       "  0.9963897280966767,\n",
       "  0.9959718026183283,\n",
       "  0.9959216556713321]]"
      ]
     },
     "execution_count": 254,
     "metadata": {},
     "output_type": "execute_result"
    }
   ],
   "source": [
    "models_stats"
   ]
  },
  {
   "cell_type": "code",
   "execution_count": 234,
   "id": "feab0fc7",
   "metadata": {},
   "outputs": [
    {
     "data": {
      "image/png": "[encoded data removed]",
      "text/plain": [
       "<Figure size 1440x432 with 1 Axes>"
      ]
     },
     "metadata": {
      "needs_background": "light"
     },
     "output_type": "display_data"
    }
   ],
   "source": [
    "# plot predicted and test values to see deviation\n",
    "fig, ax = plt.subplots(figsize=(20, 6))\n",
    "\n",
    "ax.plot(y_pred[:100], label = 'Predicted')\n",
    "ax.plot(y_test.values[:100], label = 'Test')\n",
    "plt.legend()\n",
    "\n",
    "plt.show()"
   ]
  },
  {
   "cell_type": "code",
   "execution_count": 93,
   "id": "7b18b82f",
   "metadata": {},
   "outputs": [
    {
     "data": {
      "text/plain": [
       "array([ 0, 25, 32, 34,  1, 23, 12, 38, 19, 40], dtype=int8)"
      ]
     },
     "execution_count": 93,
     "metadata": {},
     "output_type": "execute_result"
    }
   ],
   "source": [
    "y_pred[:10]"
   ]
  },
  {
   "cell_type": "markdown",
   "id": "c0126401",
   "metadata": {},
   "source": [
    "### 2. Hyperparameter Tuning for KNN Classifier"
   ]
  },
  {
   "cell_type": "code",
   "execution_count": 235,
   "id": "e6566b6c",
   "metadata": {},
   "outputs": [],
   "source": [
    "# import libraries\n",
    "from sklearn.model_selection import GridSearchCV\n",
    "from sklearn.neighbors import KNeighborsClassifier\n",
    "\n",
    "\n",
    "def apply_hyperparameter_tuning(classifier_name, model, parameters, x_train, y_train, cv=3):\n",
    "    grid_search = GridSearchCV(model, parameters, cv=cv, return_train_score=True, scoring='accuracy' )\n",
    "    grid_search.fit(x_train, y_train)\n",
    "    \n",
    "    print(f'Best parameters: {grid_search.best_params_}', '\\n')\n",
    "    \n",
    "    # print model performance with different combinations of parameters\n",
    "    print('Model Performance for parameters')\n",
    "    print('*'*32, '\\n')\n",
    "    for i in range(np.prod([len(parameters[j]) for j in parameters.keys()])):\n",
    "        print('Parameters: ', grid_search.cv_results_['params'][i])\n",
    "        print('Mean Train Score: ', grid_search.cv_results_['mean_train_score'][i])\n",
    "        print('Mean Test Score: ', grid_search.cv_results_['mean_test_score'][i])\n",
    "        print('Rank: ', grid_search.cv_results_['rank_test_score'][i])\n",
    "        print('-'*36)\n",
    "    \n",
    "    no_of_params = len(parameters.keys())\n",
    "    \n",
    "    if no_of_params > 1:\n",
    "        x_list = range(np.prod([len(parameters[j]) for j in parameters.keys()]))\n",
    "    else:\n",
    "        if classifier_name == \"Random Forest\":\n",
    "            x_list = parameters['max_depth']\n",
    "        elif classifier_name == 'K-Nearest Neighbors':\n",
    "            x_list = parameters['n_neighbors']\n",
    "        else:\n",
    "            x_list = None\n",
    "    \n",
    "    # plot the scores corresponding to no of neighbors\n",
    "    if x_list != None:\n",
    "        fig, ax = plt.subplots(figsize=(10, 5))\n",
    "        ax.plot(x_list, grid_search.cv_results_['mean_test_score'] , marker='o')\n",
    "        ax.set_title(f\"Grid Search Accuracy Scores for {classifier_name} Classifier\", fontsize=14)\n",
    "        \n",
    "        if no_of_params > 1:\n",
    "            ax.set_xlabel('Parameters Combinations', fontsize=12)\n",
    "        else:\n",
    "            if classifier_name == \"Random Forest\":\n",
    "                ax.set_xlabel('Max_depth', fontsize=12)\n",
    "            else:\n",
    "                ax.set_xlabel('N_neighbors', fontsize=12)\n",
    "        \n",
    "        ax.set_ylabel('Mean Test Score', fontsize=12)\n",
    "        plt.show()\n",
    "    \n",
    "    return grid_search\n"
   ]
  },
  {
   "cell_type": "code",
   "execution_count": 236,
   "id": "a654af3a",
   "metadata": {
    "scrolled": true
   },
   "outputs": [
    {
     "name": "stdout",
     "output_type": "stream",
     "text": [
      "Best parameters: {'n_neighbors': 1} \n",
      "\n",
      "Model Performance for parameters\n",
      "******************************** \n",
      "\n",
      "Parameters:  {'n_neighbors': 1}\n",
      "Mean Train Score:  1.0\n",
      "Mean Test Score:  0.4827412446460066\n",
      "Rank:  1\n",
      "------------------------------------\n",
      "Parameters:  {'n_neighbors': 5}\n",
      "Mean Train Score:  0.5787351977828168\n",
      "Mean Test Score:  0.4336104812295289\n",
      "Rank:  2\n",
      "------------------------------------\n",
      "Parameters:  {'n_neighbors': 10}\n",
      "Mean Train Score:  0.4541446208112874\n",
      "Mean Test Score:  0.31519274376417233\n",
      "Rank:  3\n",
      "------------------------------------\n",
      "Parameters:  {'n_neighbors': 15}\n",
      "Mean Train Score:  0.31292517006802717\n",
      "Mean Test Score:  0.18165784832451495\n",
      "Rank:  4\n",
      "------------------------------------\n",
      "Parameters:  {'n_neighbors': 20}\n",
      "Mean Train Score:  0.22776518014613253\n",
      "Mean Test Score:  0.12144116906021668\n",
      "Rank:  5\n",
      "------------------------------------\n"
     ]
    },
    {
     "data": {
      "image/png": "[encoded data removed]",
      "text/plain": [
       "<Figure size 720x360 with 1 Axes>"
      ]
     },
     "metadata": {
      "needs_background": "light"
     },
     "output_type": "display_data"
    }
   ],
   "source": [
    "# hyperparameter tuning for KNN classifier\n",
    "\n",
    "parameters = {'n_neighbors' : [1, 5, 10, 15, 20]}\n",
    "knn = KNeighborsClassifier()\n",
    "\n",
    "gs_knn = apply_hyperparameter_tuning('K-Nearest Neighbors', knn, parameters, X_train, y_train)"
   ]
  },
  {
   "cell_type": "code",
   "execution_count": 256,
   "id": "225fbc19",
   "metadata": {},
   "outputs": [
    {
     "name": "stdout",
     "output_type": "stream",
     "text": [
      "Accuracy  :  0.4904330312185297\n",
      "Precision :  0.5728747306405335\n",
      "Recall    :  0.4904330312185297\n",
      "F1-score  :  0.5063552056720554\n"
     ]
    }
   ],
   "source": [
    "# create Random Forest model with best parameters\n",
    "knn_model = gs_knn.best_estimator_\n",
    "y_pred_knn = build_model('K-Nearest Neighbors', knn_model, X_train, y_train, X_test, y_test)"
   ]
  },
  {
   "cell_type": "code",
   "execution_count": 184,
   "id": "af8a2135",
   "metadata": {},
   "outputs": [],
   "source": [
    "## KNN classifier does not seem suitable for this problem"
   ]
  },
  {
   "cell_type": "markdown",
   "id": "c2714c9e",
   "metadata": {},
   "source": [
    "### 3. Hyperparameter Tuning for Random Forest Classifier"
   ]
  },
  {
   "cell_type": "code",
   "execution_count": 239,
   "id": "71006adb",
   "metadata": {},
   "outputs": [
    {
     "name": "stdout",
     "output_type": "stream",
     "text": [
      "Best parameters: {'criterion': 'gini', 'max_depth': 15} \n",
      "\n",
      "Model Performance for parameters\n",
      "******************************** \n",
      "\n",
      "Parameters:  {'criterion': 'gini', 'max_depth': 2}\n",
      "Mean Train Score:  0.8211136306374401\n",
      "Mean Test Score:  0.8196019148400101\n",
      "Rank:  8\n",
      "------------------------------------\n",
      "Parameters:  {'criterion': 'gini', 'max_depth': 5}\n",
      "Mean Train Score:  0.9638447971781305\n",
      "Mean Test Score:  0.9632149155958679\n",
      "Rank:  6\n",
      "------------------------------------\n",
      "Parameters:  {'criterion': 'gini', 'max_depth': 10}\n",
      "Mean Train Score:  0.999244142101285\n",
      "Mean Test Score:  0.9977324263038548\n",
      "Rank:  4\n",
      "------------------------------------\n",
      "Parameters:  {'criterion': 'gini', 'max_depth': 15}\n",
      "Mean Train Score:  1.0\n",
      "Mean Test Score:  1.0\n",
      "Rank:  1\n",
      "------------------------------------\n",
      "Parameters:  {'criterion': 'entropy', 'max_depth': 2}\n",
      "Mean Train Score:  0.8998488284202569\n",
      "Mean Test Score:  0.8964474678760394\n",
      "Rank:  7\n",
      "------------------------------------\n",
      "Parameters:  {'criterion': 'entropy', 'max_depth': 5}\n",
      "Mean Train Score:  0.9949609473418998\n",
      "Mean Test Score:  0.9934492315444697\n",
      "Rank:  5\n",
      "------------------------------------\n",
      "Parameters:  {'criterion': 'entropy', 'max_depth': 10}\n",
      "Mean Train Score:  0.9996220710506426\n",
      "Mean Test Score:  0.99949609473419\n",
      "Rank:  3\n",
      "------------------------------------\n",
      "Parameters:  {'criterion': 'entropy', 'max_depth': 15}\n",
      "Mean Train Score:  1.0\n",
      "Mean Test Score:  1.0\n",
      "Rank:  1\n",
      "------------------------------------\n"
     ]
    },
    {
     "data": {
      "image/png": "[encoded data removed]",
      "text/plain": [
       "<Figure size 720x360 with 1 Axes>"
      ]
     },
     "metadata": {
      "needs_background": "light"
     },
     "output_type": "display_data"
    }
   ],
   "source": [
    "from sklearn.ensemble import RandomForestClassifier\n",
    "\n",
    "# hyperparameter tuning for KNN classifier\n",
    "\n",
    "rf = RandomForestClassifier()\n",
    "param_grid = {'criterion' : ['gini', 'entropy'],\n",
    "              'max_depth' : [2, 5, 10, 15]}\n",
    "\n",
    "gs_rf = apply_hyperparameter_tuning('Random Forest', rf, param_grid, X_train, y_train)"
   ]
  },
  {
   "cell_type": "code",
   "execution_count": 257,
   "id": "56792682",
   "metadata": {
    "scrolled": true
   },
   "outputs": [
    {
     "name": "stdout",
     "output_type": "stream",
     "text": [
      "Accuracy  :  0.998992950654582\n",
      "Precision :  0.9990409053853162\n",
      "Recall    :  0.998992950654582\n",
      "F1-score  :  0.9989981398473616\n"
     ]
    }
   ],
   "source": [
    "# create Random Forest model with best parameters\n",
    "rf_model = gs_rf.best_estimator_\n",
    "y_pred_rf = build_model('Random Forest', rf_model, X_train, y_train, X_test, y_test)"
   ]
  },
  {
   "cell_type": "markdown",
   "id": "04cee447",
   "metadata": {},
   "source": [
    "### 4. Models Evaluation"
   ]
  },
  {
   "cell_type": "code",
   "execution_count": 260,
   "id": "2aa0909a",
   "metadata": {
    "scrolled": true
   },
   "outputs": [
    {
     "data": {
      "text/html": [
       "<div>\n",
       "<style scoped>\n",
       "    .dataframe tbody tr th:only-of-type {\n",
       "        vertical-align: middle;\n",
       "    }\n",
       "\n",
       "    .dataframe tbody tr th {\n",
       "        vertical-align: top;\n",
       "    }\n",
       "\n",
       "    .dataframe thead th {\n",
       "        text-align: right;\n",
       "    }\n",
       "</style>\n",
       "<table border=\"1\" class=\"dataframe\">\n",
       "  <thead>\n",
       "    <tr style=\"text-align: right;\">\n",
       "      <th></th>\n",
       "      <th>Model</th>\n",
       "      <th>Accuracy</th>\n",
       "      <th>Precision</th>\n",
       "      <th>Recall</th>\n",
       "      <th>F1-score</th>\n",
       "    </tr>\n",
       "  </thead>\n",
       "  <tbody>\n",
       "    <tr>\n",
       "      <th>0</th>\n",
       "      <td>Logistic Regression</td>\n",
       "      <td>0.995972</td>\n",
       "      <td>0.996390</td>\n",
       "      <td>0.995972</td>\n",
       "      <td>0.995922</td>\n",
       "    </tr>\n",
       "    <tr>\n",
       "      <th>1</th>\n",
       "      <td>K-Nearest Neighbors</td>\n",
       "      <td>0.490433</td>\n",
       "      <td>0.572875</td>\n",
       "      <td>0.490433</td>\n",
       "      <td>0.506355</td>\n",
       "    </tr>\n",
       "    <tr>\n",
       "      <th>2</th>\n",
       "      <td>Random Forest</td>\n",
       "      <td>0.998993</td>\n",
       "      <td>0.999041</td>\n",
       "      <td>0.998993</td>\n",
       "      <td>0.998998</td>\n",
       "    </tr>\n",
       "  </tbody>\n",
       "</table>\n",
       "</div>"
      ],
      "text/plain": [
       "                 Model  Accuracy  Precision    Recall  F1-score\n",
       "0  Logistic Regression  0.995972   0.996390  0.995972  0.995922\n",
       "1  K-Nearest Neighbors  0.490433   0.572875  0.490433  0.506355\n",
       "2        Random Forest  0.998993   0.999041  0.998993  0.998998"
      ]
     },
     "execution_count": 260,
     "metadata": {},
     "output_type": "execute_result"
    }
   ],
   "source": [
    "models_eval = pd.DataFrame(models_stats, columns=['Model', 'Accuracy', 'Precision', 'Recall', 'F1-score'])\n",
    "\n",
    "models_eval"
   ]
  },
  {
   "cell_type": "code",
   "execution_count": 270,
   "id": "d63cfa40",
   "metadata": {},
   "outputs": [
    {
     "data": {
      "image/png": "[encoded data removed]",
      "text/plain": [
       "<Figure size 720x360 with 1 Axes>"
      ]
     },
     "metadata": {
      "needs_background": "light"
     },
     "output_type": "display_data"
    }
   ],
   "source": [
    "fig, ax = plt.subplots(figsize=(10, 5))\n",
    "\n",
    "ax.plot(models_eval['Model'], models_eval['Accuracy'] , marker='o', label = 'Accuracy')\n",
    "ax.plot(models_eval['Model'], models_eval['Precision'] , marker='o', label = 'Precision')\n",
    "ax.plot(models_eval['Model'], models_eval['Recall'] , marker='o', label = 'Recall')\n",
    "\n",
    "ax.set_title('Model Evaluation Results on Test Data', fontsize=14)\n",
    "ax.legend()\n",
    "\n",
    "plt.show()"
   ]
  },
  {
   "cell_type": "code",
   "execution_count": 198,
   "id": "063abb3e",
   "metadata": {},
   "outputs": [
    {
     "data": {
      "text/plain": [
       "array([0.01477551, 0.01381668, 0.0171705 , 0.01113844, 0.01841004,\n",
       "       0.0122302 , 0.01175551, 0.01437525, 0.01390441, 0.01210742,\n",
       "       0.01159602, 0.01689349, 0.01172723, 0.01841116, 0.01750186,\n",
       "       0.01778624, 0.0166947 , 0.01310442, 0.01551845, 0.01411214,\n",
       "       0.01166763, 0.0140483 , 0.0127335 , 0.01614866])"
      ]
     },
     "execution_count": 198,
     "metadata": {},
     "output_type": "execute_result"
    }
   ],
   "source": [
    "# check for feature importances\n",
    "rf_model.feature_importances_[rf_model.feature_importances_ > 0.011]"
   ]
  },
  {
   "cell_type": "code",
   "execution_count": 271,
   "id": "2958801a",
   "metadata": {},
   "outputs": [
    {
     "data": {
      "text/html": [
       "<div>\n",
       "<style scoped>\n",
       "    .dataframe tbody tr th:only-of-type {\n",
       "        vertical-align: middle;\n",
       "    }\n",
       "\n",
       "    .dataframe tbody tr th {\n",
       "        vertical-align: top;\n",
       "    }\n",
       "\n",
       "    .dataframe thead th {\n",
       "        text-align: right;\n",
       "    }\n",
       "</style>\n",
       "<table border=\"1\" class=\"dataframe\">\n",
       "  <thead>\n",
       "    <tr style=\"text-align: right;\">\n",
       "      <th></th>\n",
       "      <th>0</th>\n",
       "      <th>1</th>\n",
       "    </tr>\n",
       "  </thead>\n",
       "  <tbody>\n",
       "    <tr>\n",
       "      <th>0</th>\n",
       "      <td>weight_loss</td>\n",
       "      <td>0.013498</td>\n",
       "    </tr>\n",
       "    <tr>\n",
       "      <th>1</th>\n",
       "      <td>sunken_eyes</td>\n",
       "      <td>0.015543</td>\n",
       "    </tr>\n",
       "    <tr>\n",
       "      <th>2</th>\n",
       "      <td>dehydration</td>\n",
       "      <td>0.011568</td>\n",
       "    </tr>\n",
       "    <tr>\n",
       "      <th>3</th>\n",
       "      <td>pain_behind_the_eyes</td>\n",
       "      <td>0.019291</td>\n",
       "    </tr>\n",
       "    <tr>\n",
       "      <th>4</th>\n",
       "      <td>mild_fever</td>\n",
       "      <td>0.018527</td>\n",
       "    </tr>\n",
       "    <tr>\n",
       "      <th>5</th>\n",
       "      <td>fast_heart_rate</td>\n",
       "      <td>0.013744</td>\n",
       "    </tr>\n",
       "    <tr>\n",
       "      <th>6</th>\n",
       "      <td>muscle_weakness</td>\n",
       "      <td>0.013777</td>\n",
       "    </tr>\n",
       "    <tr>\n",
       "      <th>7</th>\n",
       "      <td>movement_stiffness</td>\n",
       "      <td>0.012638</td>\n",
       "    </tr>\n",
       "    <tr>\n",
       "      <th>8</th>\n",
       "      <td>muscle_pain</td>\n",
       "      <td>0.018951</td>\n",
       "    </tr>\n",
       "    <tr>\n",
       "      <th>9</th>\n",
       "      <td>altered_sensorium</td>\n",
       "      <td>0.013783</td>\n",
       "    </tr>\n",
       "    <tr>\n",
       "      <th>10</th>\n",
       "      <td>red_spots_over_body</td>\n",
       "      <td>0.020450</td>\n",
       "    </tr>\n",
       "    <tr>\n",
       "      <th>11</th>\n",
       "      <td>abnormal_menstruation</td>\n",
       "      <td>0.011718</td>\n",
       "    </tr>\n",
       "    <tr>\n",
       "      <th>12</th>\n",
       "      <td>polyuria</td>\n",
       "      <td>0.017227</td>\n",
       "    </tr>\n",
       "    <tr>\n",
       "      <th>13</th>\n",
       "      <td>family_history</td>\n",
       "      <td>0.012145</td>\n",
       "    </tr>\n",
       "    <tr>\n",
       "      <th>14</th>\n",
       "      <td>mucoid_sputum</td>\n",
       "      <td>0.016709</td>\n",
       "    </tr>\n",
       "    <tr>\n",
       "      <th>15</th>\n",
       "      <td>rusty_sputum</td>\n",
       "      <td>0.017830</td>\n",
       "    </tr>\n",
       "    <tr>\n",
       "      <th>16</th>\n",
       "      <td>stomach_bleeding</td>\n",
       "      <td>0.017517</td>\n",
       "    </tr>\n",
       "    <tr>\n",
       "      <th>17</th>\n",
       "      <td>fluid_overload.1</td>\n",
       "      <td>0.011597</td>\n",
       "    </tr>\n",
       "    <tr>\n",
       "      <th>18</th>\n",
       "      <td>blood_in_sputum</td>\n",
       "      <td>0.011192</td>\n",
       "    </tr>\n",
       "    <tr>\n",
       "      <th>19</th>\n",
       "      <td>palpitations</td>\n",
       "      <td>0.012066</td>\n",
       "    </tr>\n",
       "    <tr>\n",
       "      <th>20</th>\n",
       "      <td>skin_peeling</td>\n",
       "      <td>0.013306</td>\n",
       "    </tr>\n",
       "    <tr>\n",
       "      <th>21</th>\n",
       "      <td>red_sore_around_nose</td>\n",
       "      <td>0.015877</td>\n",
       "    </tr>\n",
       "  </tbody>\n",
       "</table>\n",
       "</div>"
      ],
      "text/plain": [
       "                        0         1\n",
       "0             weight_loss  0.013498\n",
       "1             sunken_eyes  0.015543\n",
       "2             dehydration  0.011568\n",
       "3    pain_behind_the_eyes  0.019291\n",
       "4              mild_fever  0.018527\n",
       "5         fast_heart_rate  0.013744\n",
       "6         muscle_weakness  0.013777\n",
       "7      movement_stiffness  0.012638\n",
       "8             muscle_pain  0.018951\n",
       "9       altered_sensorium  0.013783\n",
       "10    red_spots_over_body  0.020450\n",
       "11  abnormal_menstruation  0.011718\n",
       "12               polyuria  0.017227\n",
       "13         family_history  0.012145\n",
       "14          mucoid_sputum  0.016709\n",
       "15           rusty_sputum  0.017830\n",
       "16       stomach_bleeding  0.017517\n",
       "17       fluid_overload.1  0.011597\n",
       "18        blood_in_sputum  0.011192\n",
       "19           palpitations  0.012066\n",
       "20           skin_peeling  0.013306\n",
       "21   red_sore_around_nose  0.015877"
      ]
     },
     "execution_count": 271,
     "metadata": {},
     "output_type": "execute_result"
    }
   ],
   "source": [
    "pd.concat([pd.Series(X_train.columns[rf_model.feature_importances_ >= 0.011]),\n",
    "           pd.Series(rf_model.feature_importances_[rf_model.feature_importances_ >= 0.011]) ],\n",
    "           axis = 1, names = ['Feature', 'Importance'])"
   ]
  },
  {
   "cell_type": "code",
   "execution_count": null,
   "id": "66a67bcf",
   "metadata": {},
   "outputs": [],
   "source": []
  },
  {
   "cell_type": "code",
   "execution_count": null,
   "id": "c5576ca5",
   "metadata": {},
   "outputs": [],
   "source": []
  },
  {
   "cell_type": "code",
   "execution_count": null,
   "id": "bfc48df8",
   "metadata": {},
   "outputs": [],
   "source": []
  },
  {
   "cell_type": "code",
   "execution_count": null,
   "id": "2fcb99c3",
   "metadata": {},
   "outputs": [],
   "source": []
  },
  {
   "cell_type": "code",
   "execution_count": null,
   "id": "eba68986",
   "metadata": {},
   "outputs": [],
   "source": []
  }
 ],
 "metadata": {
  "kernelspec": {
   "display_name": "Python 3 (ipykernel)",
   "language": "python",
   "name": "python3"
  },
  "language_info": {
   "codemirror_mode": {
    "name": "ipython",
    "version": 3
   },
   "file_extension": ".py",
   "mimetype": "text/x-python",
   "name": "python",
   "nbconvert_exporter": "python",
   "pygments_lexer": "ipython3",
   "version": "3.9.12"
  }
 },
 "nbformat": 4,
 "nbformat_minor": 5
}
