{
 "cells": [
  {
   "cell_type": "markdown",
   "id": "b4636f32",
   "metadata": {},
   "source": [
    "# Earth Day 2022 Tweets Analysis\n",
    "### Dataset Used - https://www.kaggle.com/datasets/nabanitaroy/earthday2022tweets"
   ]
  },
  {
   "cell_type": "markdown",
   "id": "5fc55c87",
   "metadata": {},
   "source": [
    "## Import Required Python Libraries"
   ]
  },
  {
   "cell_type": "code",
   "execution_count": 1,
   "id": "395b8e39",
   "metadata": {},
   "outputs": [],
   "source": [
    "import pandas as pd\n",
    "import os\n",
    "import re\n",
    "import seaborn as sns\n",
    "import matplotlib.pyplot as plt"
   ]
  },
  {
   "cell_type": "code",
   "execution_count": 2,
   "id": "0cb123e2",
   "metadata": {},
   "outputs": [
    {
     "data": {
      "text/plain": [
       "'D:\\\\Anaconda_Jupyter_Notebooks\\\\ML_Project'"
      ]
     },
     "execution_count": 2,
     "metadata": {},
     "output_type": "execute_result"
    }
   ],
   "source": [
    "# check current working direcorty\n",
    "os.getcwd()"
   ]
  },
  {
   "cell_type": "code",
   "execution_count": 3,
   "id": "2b8daff9",
   "metadata": {},
   "outputs": [
    {
     "data": {
      "text/plain": [
       "['.ipynb_checkpoints',\n",
       " 'disease.db',\n",
       " 'Disease_Testing.csv',\n",
       " 'Disease_Training.csv',\n",
       " 'earth_day_tweets.csv',\n",
       " 'Earth_Day_Tweets_Analysis.ipynb',\n",
       " 'ML_Model_for_Disease_Prediction.ipynb']"
      ]
     },
     "execution_count": 3,
     "metadata": {},
     "output_type": "execute_result"
    }
   ],
   "source": [
    "# Get list of files and directories in current working dir\n",
    "os.listdir(os.getcwd())"
   ]
  },
  {
   "cell_type": "markdown",
   "id": "c754aa5e",
   "metadata": {},
   "source": [
    "## Import Earth Day tweets file and Check Data"
   ]
  },
  {
   "cell_type": "code",
   "execution_count": 4,
   "id": "b7bbcedc",
   "metadata": {},
   "outputs": [
    {
     "data": {
      "text/html": [
       "<div>\n",
       "<style scoped>\n",
       "    .dataframe tbody tr th:only-of-type {\n",
       "        vertical-align: middle;\n",
       "    }\n",
       "\n",
       "    .dataframe tbody tr th {\n",
       "        vertical-align: top;\n",
       "    }\n",
       "\n",
       "    .dataframe thead th {\n",
       "        text-align: right;\n",
       "    }\n",
       "</style>\n",
       "<table border=\"1\" class=\"dataframe\">\n",
       "  <thead>\n",
       "    <tr style=\"text-align: right;\">\n",
       "      <th></th>\n",
       "      <th>text</th>\n",
       "      <th>hash_tags</th>\n",
       "      <th>account_tags</th>\n",
       "      <th>emoji_lists</th>\n",
       "      <th>sentiment</th>\n",
       "      <th>emotion</th>\n",
       "    </tr>\n",
       "  </thead>\n",
       "  <tbody>\n",
       "    <tr>\n",
       "      <th>0</th>\n",
       "      <td>RT @POTUS: As we celebrate the progress we’ve ...</td>\n",
       "      <td>NaN</td>\n",
       "      <td>POTUS</td>\n",
       "      <td>NaN</td>\n",
       "      <td>POSITIVE</td>\n",
       "      <td>optimism</td>\n",
       "    </tr>\n",
       "    <tr>\n",
       "      <th>1</th>\n",
       "      <td>This #EarthDay, I'm happy to be meeting with P...</td>\n",
       "      <td>EarthDay,GetTheLeadOut</td>\n",
       "      <td>PennEnvironment</td>\n",
       "      <td>NaN</td>\n",
       "      <td>POSITIVE</td>\n",
       "      <td>optimism</td>\n",
       "    </tr>\n",
       "    <tr>\n",
       "      <th>2</th>\n",
       "      <td>RT @Khan__sir_patna: All of people wishes and ...</td>\n",
       "      <td>EarthDay</td>\n",
       "      <td>Khan__sir_patna</td>\n",
       "      <td>NaN</td>\n",
       "      <td>POSITIVE</td>\n",
       "      <td>joy</td>\n",
       "    </tr>\n",
       "    <tr>\n",
       "      <th>3</th>\n",
       "      <td>RT @CapsCoalition: Biden Signs Executive Order...</td>\n",
       "      <td>EarthDay</td>\n",
       "      <td>CapsCoalition</td>\n",
       "      <td>NaN</td>\n",
       "      <td>POSITIVE</td>\n",
       "      <td>optimism</td>\n",
       "    </tr>\n",
       "    <tr>\n",
       "      <th>4</th>\n",
       "      <td>RT @tamannaahspeaks: Animals source their food...</td>\n",
       "      <td>MyconnectwithSoil</td>\n",
       "      <td>tamannaahspeaks,SadhguruJV,cpsavesoil</td>\n",
       "      <td>NaN</td>\n",
       "      <td>POSITIVE</td>\n",
       "      <td>optimism</td>\n",
       "    </tr>\n",
       "  </tbody>\n",
       "</table>\n",
       "</div>"
      ],
      "text/plain": [
       "                                                text               hash_tags  \\\n",
       "0  RT @POTUS: As we celebrate the progress we’ve ...                     NaN   \n",
       "1  This #EarthDay, I'm happy to be meeting with P...  EarthDay,GetTheLeadOut   \n",
       "2  RT @Khan__sir_patna: All of people wishes and ...                EarthDay   \n",
       "3  RT @CapsCoalition: Biden Signs Executive Order...                EarthDay   \n",
       "4  RT @tamannaahspeaks: Animals source their food...       MyconnectwithSoil   \n",
       "\n",
       "                            account_tags emoji_lists sentiment   emotion  \n",
       "0                                  POTUS         NaN  POSITIVE  optimism  \n",
       "1                        PennEnvironment         NaN  POSITIVE  optimism  \n",
       "2                        Khan__sir_patna         NaN  POSITIVE       joy  \n",
       "3                          CapsCoalition         NaN  POSITIVE  optimism  \n",
       "4  tamannaahspeaks,SadhguruJV,cpsavesoil         NaN  POSITIVE  optimism  "
      ]
     },
     "execution_count": 4,
     "metadata": {},
     "output_type": "execute_result"
    }
   ],
   "source": [
    "tweets = pd.read_csv('earth_day_tweets.csv')\n",
    "tweets.head()"
   ]
  },
  {
   "cell_type": "code",
   "execution_count": 5,
   "id": "91ab1bc3",
   "metadata": {},
   "outputs": [
    {
     "name": "stdout",
     "output_type": "stream",
     "text": [
      "<class 'pandas.core.frame.DataFrame'>\n",
      "RangeIndex: 100099 entries, 0 to 100098\n",
      "Data columns (total 6 columns):\n",
      " #   Column        Non-Null Count   Dtype \n",
      "---  ------        --------------   ----- \n",
      " 0   text          100099 non-null  object\n",
      " 1   hash_tags     62943 non-null   object\n",
      " 2   account_tags  76952 non-null   object\n",
      " 3   emoji_lists   38308 non-null   object\n",
      " 4   sentiment     100099 non-null  object\n",
      " 5   emotion       100099 non-null  object\n",
      "dtypes: object(6)\n",
      "memory usage: 4.6+ MB\n"
     ]
    }
   ],
   "source": [
    "# Check structure of data\n",
    "tweets.info()"
   ]
  },
  {
   "cell_type": "code",
   "execution_count": 6,
   "id": "43e7abbc",
   "metadata": {},
   "outputs": [
    {
     "data": {
      "text/html": [
       "<div>\n",
       "<style scoped>\n",
       "    .dataframe tbody tr th:only-of-type {\n",
       "        vertical-align: middle;\n",
       "    }\n",
       "\n",
       "    .dataframe tbody tr th {\n",
       "        vertical-align: top;\n",
       "    }\n",
       "\n",
       "    .dataframe thead th {\n",
       "        text-align: right;\n",
       "    }\n",
       "</style>\n",
       "<table border=\"1\" class=\"dataframe\">\n",
       "  <thead>\n",
       "    <tr style=\"text-align: right;\">\n",
       "      <th></th>\n",
       "      <th>text</th>\n",
       "      <th>hash_tags</th>\n",
       "      <th>account_tags</th>\n",
       "      <th>emoji_lists</th>\n",
       "      <th>sentiment</th>\n",
       "      <th>emotion</th>\n",
       "    </tr>\n",
       "  </thead>\n",
       "  <tbody>\n",
       "    <tr>\n",
       "      <th>count</th>\n",
       "      <td>100099</td>\n",
       "      <td>62943</td>\n",
       "      <td>76952</td>\n",
       "      <td>38308</td>\n",
       "      <td>100099</td>\n",
       "      <td>100099</td>\n",
       "    </tr>\n",
       "    <tr>\n",
       "      <th>unique</th>\n",
       "      <td>50183</td>\n",
       "      <td>15123</td>\n",
       "      <td>23596</td>\n",
       "      <td>6677</td>\n",
       "      <td>2</td>\n",
       "      <td>4</td>\n",
       "    </tr>\n",
       "    <tr>\n",
       "      <th>top</th>\n",
       "      <td>RT @BarackObama: When it comes to climate chan...</td>\n",
       "      <td>EarthDay</td>\n",
       "      <td>cpsavesoil</td>\n",
       "      <td>['🌎']</td>\n",
       "      <td>POSITIVE</td>\n",
       "      <td>joy</td>\n",
       "    </tr>\n",
       "    <tr>\n",
       "      <th>freq</th>\n",
       "      <td>655</td>\n",
       "      <td>19566</td>\n",
       "      <td>3261</td>\n",
       "      <td>7466</td>\n",
       "      <td>66089</td>\n",
       "      <td>56309</td>\n",
       "    </tr>\n",
       "  </tbody>\n",
       "</table>\n",
       "</div>"
      ],
      "text/plain": [
       "                                                     text hash_tags  \\\n",
       "count                                              100099     62943   \n",
       "unique                                              50183     15123   \n",
       "top     RT @BarackObama: When it comes to climate chan...  EarthDay   \n",
       "freq                                                  655     19566   \n",
       "\n",
       "       account_tags emoji_lists sentiment emotion  \n",
       "count         76952       38308    100099  100099  \n",
       "unique        23596        6677         2       4  \n",
       "top      cpsavesoil       ['🌎']  POSITIVE     joy  \n",
       "freq           3261        7466     66089   56309  "
      ]
     },
     "execution_count": 6,
     "metadata": {},
     "output_type": "execute_result"
    }
   ],
   "source": [
    "# Check more insights of each column\n",
    "tweets.describe()"
   ]
  },
  {
   "cell_type": "code",
   "execution_count": 7,
   "id": "a3a3cdfa",
   "metadata": {},
   "outputs": [
    {
     "data": {
      "text/plain": [
       "text            100099\n",
       "hash_tags        62943\n",
       "account_tags     76952\n",
       "emoji_lists      38308\n",
       "sentiment       100099\n",
       "emotion         100099\n",
       "dtype: int64"
      ]
     },
     "execution_count": 7,
     "metadata": {},
     "output_type": "execute_result"
    }
   ],
   "source": [
    "tweets.count()"
   ]
  },
  {
   "cell_type": "markdown",
   "id": "d41bb947",
   "metadata": {},
   "source": [
    "## Clean-up Dataset"
   ]
  },
  {
   "cell_type": "markdown",
   "id": "16529f42",
   "metadata": {},
   "source": [
    "### 1. Clean-up duplicate data"
   ]
  },
  {
   "cell_type": "code",
   "execution_count": 8,
   "id": "8e7d37e2",
   "metadata": {},
   "outputs": [
    {
     "data": {
      "text/plain": [
       "text            49916\n",
       "hash_tags       30628\n",
       "account_tags    49646\n",
       "emoji_lists     18358\n",
       "sentiment       49916\n",
       "emotion         49916\n",
       "dtype: int64"
      ]
     },
     "execution_count": 8,
     "metadata": {},
     "output_type": "execute_result"
    }
   ],
   "source": [
    "# Check for duplicate values \n",
    "tweets[tweets.duplicated()].count()"
   ]
  },
  {
   "cell_type": "code",
   "execution_count": 9,
   "id": "6db00b15",
   "metadata": {},
   "outputs": [
    {
     "data": {
      "text/html": [
       "<div>\n",
       "<style scoped>\n",
       "    .dataframe tbody tr th:only-of-type {\n",
       "        vertical-align: middle;\n",
       "    }\n",
       "\n",
       "    .dataframe tbody tr th {\n",
       "        vertical-align: top;\n",
       "    }\n",
       "\n",
       "    .dataframe thead th {\n",
       "        text-align: right;\n",
       "    }\n",
       "</style>\n",
       "<table border=\"1\" class=\"dataframe\">\n",
       "  <thead>\n",
       "    <tr style=\"text-align: right;\">\n",
       "      <th></th>\n",
       "      <th>text</th>\n",
       "      <th>hash_tags</th>\n",
       "      <th>account_tags</th>\n",
       "      <th>emoji_lists</th>\n",
       "      <th>sentiment</th>\n",
       "      <th>emotion</th>\n",
       "    </tr>\n",
       "  </thead>\n",
       "  <tbody>\n",
       "  </tbody>\n",
       "</table>\n",
       "</div>"
      ],
      "text/plain": [
       "Empty DataFrame\n",
       "Columns: [text, hash_tags, account_tags, emoji_lists, sentiment, emotion]\n",
       "Index: []"
      ]
     },
     "execution_count": 9,
     "metadata": {},
     "output_type": "execute_result"
    }
   ],
   "source": [
    "# Drop duplicate rows\n",
    "tweets.drop_duplicates(inplace=True)\n",
    "tweets[tweets.duplicated()]"
   ]
  },
  {
   "cell_type": "code",
   "execution_count": 10,
   "id": "b86a7fb4",
   "metadata": {},
   "outputs": [
    {
     "data": {
      "text/html": [
       "<div>\n",
       "<style scoped>\n",
       "    .dataframe tbody tr th:only-of-type {\n",
       "        vertical-align: middle;\n",
       "    }\n",
       "\n",
       "    .dataframe tbody tr th {\n",
       "        vertical-align: top;\n",
       "    }\n",
       "\n",
       "    .dataframe thead th {\n",
       "        text-align: right;\n",
       "    }\n",
       "</style>\n",
       "<table border=\"1\" class=\"dataframe\">\n",
       "  <thead>\n",
       "    <tr style=\"text-align: right;\">\n",
       "      <th></th>\n",
       "      <th>text</th>\n",
       "      <th>hash_tags</th>\n",
       "      <th>account_tags</th>\n",
       "      <th>emoji_lists</th>\n",
       "      <th>sentiment</th>\n",
       "      <th>emotion</th>\n",
       "    </tr>\n",
       "  </thead>\n",
       "  <tbody>\n",
       "    <tr>\n",
       "      <th>count</th>\n",
       "      <td>50183</td>\n",
       "      <td>32315</td>\n",
       "      <td>27306</td>\n",
       "      <td>19950</td>\n",
       "      <td>50183</td>\n",
       "      <td>50183</td>\n",
       "    </tr>\n",
       "    <tr>\n",
       "      <th>unique</th>\n",
       "      <td>50183</td>\n",
       "      <td>15123</td>\n",
       "      <td>23596</td>\n",
       "      <td>6677</td>\n",
       "      <td>2</td>\n",
       "      <td>4</td>\n",
       "    </tr>\n",
       "    <tr>\n",
       "      <th>top</th>\n",
       "      <td>RT @POTUS: As we celebrate the progress we’ve ...</td>\n",
       "      <td>EarthDay</td>\n",
       "      <td>cpsavesoil</td>\n",
       "      <td>['🌎']</td>\n",
       "      <td>POSITIVE</td>\n",
       "      <td>joy</td>\n",
       "    </tr>\n",
       "    <tr>\n",
       "      <th>freq</th>\n",
       "      <td>1</td>\n",
       "      <td>8880</td>\n",
       "      <td>148</td>\n",
       "      <td>3770</td>\n",
       "      <td>35402</td>\n",
       "      <td>29342</td>\n",
       "    </tr>\n",
       "  </tbody>\n",
       "</table>\n",
       "</div>"
      ],
      "text/plain": [
       "                                                     text hash_tags  \\\n",
       "count                                               50183     32315   \n",
       "unique                                              50183     15123   \n",
       "top     RT @POTUS: As we celebrate the progress we’ve ...  EarthDay   \n",
       "freq                                                    1      8880   \n",
       "\n",
       "       account_tags emoji_lists sentiment emotion  \n",
       "count         27306       19950     50183   50183  \n",
       "unique        23596        6677         2       4  \n",
       "top      cpsavesoil       ['🌎']  POSITIVE     joy  \n",
       "freq            148        3770     35402   29342  "
      ]
     },
     "execution_count": 10,
     "metadata": {},
     "output_type": "execute_result"
    }
   ],
   "source": [
    "tweets.describe()"
   ]
  },
  {
   "cell_type": "markdown",
   "id": "4db50a30",
   "metadata": {},
   "source": [
    "### 2. Clean-up NULL values"
   ]
  },
  {
   "cell_type": "code",
   "execution_count": 11,
   "id": "3c50675b",
   "metadata": {},
   "outputs": [
    {
     "data": {
      "text/plain": [
       "text                0\n",
       "hash_tags       17868\n",
       "account_tags    22877\n",
       "emoji_lists     30233\n",
       "sentiment           0\n",
       "emotion             0\n",
       "dtype: int64"
      ]
     },
     "execution_count": 11,
     "metadata": {},
     "output_type": "execute_result"
    }
   ],
   "source": [
    "# Check for NULL values for each column\n",
    "tweets.isna().sum()"
   ]
  },
  {
   "cell_type": "code",
   "execution_count": 12,
   "id": "b7a0ec3f",
   "metadata": {},
   "outputs": [
    {
     "data": {
      "text/plain": [
       "text            0\n",
       "hash_tags       0\n",
       "account_tags    0\n",
       "emoji_lists     0\n",
       "sentiment       0\n",
       "emotion         0\n",
       "dtype: int64"
      ]
     },
     "execution_count": 12,
     "metadata": {},
     "output_type": "execute_result"
    }
   ],
   "source": [
    "# Drop rows having NULL values in any column\n",
    "tweets.dropna(inplace=True)\n",
    "tweets.isna().sum()"
   ]
  },
  {
   "cell_type": "code",
   "execution_count": 13,
   "id": "81c48836",
   "metadata": {},
   "outputs": [
    {
     "data": {
      "text/html": [
       "<div>\n",
       "<style scoped>\n",
       "    .dataframe tbody tr th:only-of-type {\n",
       "        vertical-align: middle;\n",
       "    }\n",
       "\n",
       "    .dataframe tbody tr th {\n",
       "        vertical-align: top;\n",
       "    }\n",
       "\n",
       "    .dataframe thead th {\n",
       "        text-align: right;\n",
       "    }\n",
       "</style>\n",
       "<table border=\"1\" class=\"dataframe\">\n",
       "  <thead>\n",
       "    <tr style=\"text-align: right;\">\n",
       "      <th></th>\n",
       "      <th>text</th>\n",
       "      <th>hash_tags</th>\n",
       "      <th>account_tags</th>\n",
       "      <th>emoji_lists</th>\n",
       "      <th>sentiment</th>\n",
       "      <th>emotion</th>\n",
       "    </tr>\n",
       "  </thead>\n",
       "  <tbody>\n",
       "    <tr>\n",
       "      <th>count</th>\n",
       "      <td>7651</td>\n",
       "      <td>7651</td>\n",
       "      <td>7651</td>\n",
       "      <td>7651</td>\n",
       "      <td>7651</td>\n",
       "      <td>7651</td>\n",
       "    </tr>\n",
       "    <tr>\n",
       "      <th>unique</th>\n",
       "      <td>7651</td>\n",
       "      <td>4089</td>\n",
       "      <td>7041</td>\n",
       "      <td>3253</td>\n",
       "      <td>2</td>\n",
       "      <td>4</td>\n",
       "    </tr>\n",
       "    <tr>\n",
       "      <th>top</th>\n",
       "      <td>RT @ZLabe: ➡️ Create your own climate change s...</td>\n",
       "      <td>EarthDay</td>\n",
       "      <td>EarthDay</td>\n",
       "      <td>['🌎']</td>\n",
       "      <td>POSITIVE</td>\n",
       "      <td>joy</td>\n",
       "    </tr>\n",
       "    <tr>\n",
       "      <th>freq</th>\n",
       "      <td>1</td>\n",
       "      <td>2085</td>\n",
       "      <td>38</td>\n",
       "      <td>1235</td>\n",
       "      <td>5188</td>\n",
       "      <td>4862</td>\n",
       "    </tr>\n",
       "  </tbody>\n",
       "</table>\n",
       "</div>"
      ],
      "text/plain": [
       "                                                     text hash_tags  \\\n",
       "count                                                7651      7651   \n",
       "unique                                               7651      4089   \n",
       "top     RT @ZLabe: ➡️ Create your own climate change s...  EarthDay   \n",
       "freq                                                    1      2085   \n",
       "\n",
       "       account_tags emoji_lists sentiment emotion  \n",
       "count          7651        7651      7651    7651  \n",
       "unique         7041        3253         2       4  \n",
       "top        EarthDay       ['🌎']  POSITIVE     joy  \n",
       "freq             38        1235      5188    4862  "
      ]
     },
     "execution_count": 13,
     "metadata": {},
     "output_type": "execute_result"
    }
   ],
   "source": [
    "tweets.describe()"
   ]
  },
  {
   "cell_type": "code",
   "execution_count": 14,
   "id": "91a97925",
   "metadata": {
    "scrolled": true
   },
   "outputs": [
    {
     "data": {
      "text/html": [
       "<div>\n",
       "<style scoped>\n",
       "    .dataframe tbody tr th:only-of-type {\n",
       "        vertical-align: middle;\n",
       "    }\n",
       "\n",
       "    .dataframe tbody tr th {\n",
       "        vertical-align: top;\n",
       "    }\n",
       "\n",
       "    .dataframe thead th {\n",
       "        text-align: right;\n",
       "    }\n",
       "</style>\n",
       "<table border=\"1\" class=\"dataframe\">\n",
       "  <thead>\n",
       "    <tr style=\"text-align: right;\">\n",
       "      <th></th>\n",
       "      <th>text</th>\n",
       "      <th>hash_tags</th>\n",
       "      <th>account_tags</th>\n",
       "      <th>emoji_lists</th>\n",
       "      <th>sentiment</th>\n",
       "      <th>emotion</th>\n",
       "    </tr>\n",
       "  </thead>\n",
       "  <tbody>\n",
       "    <tr>\n",
       "      <th>13</th>\n",
       "      <td>RT @ZLabe: ➡️ Create your own climate change s...</td>\n",
       "      <td>EarthDay,Arctic</td>\n",
       "      <td>ZLabe</td>\n",
       "      <td>['➡']</td>\n",
       "      <td>NEGATIVE</td>\n",
       "      <td>joy</td>\n",
       "    </tr>\n",
       "    <tr>\n",
       "      <th>14</th>\n",
       "      <td>RT @LMMontgomeryLS: Oh, I don’t mean just the ...</td>\n",
       "      <td>EarthDay</td>\n",
       "      <td>LMMontgomeryLS</td>\n",
       "      <td>['🎨']</td>\n",
       "      <td>POSITIVE</td>\n",
       "      <td>joy</td>\n",
       "    </tr>\n",
       "    <tr>\n",
       "      <th>30</th>\n",
       "      <td>RT @OutrageOptimism: The path ahead will be fu...</td>\n",
       "      <td>EarthDay</td>\n",
       "      <td>OutrageOptimism</td>\n",
       "      <td>['🌍', '🎧']</td>\n",
       "      <td>POSITIVE</td>\n",
       "      <td>optimism</td>\n",
       "    </tr>\n",
       "    <tr>\n",
       "      <th>46</th>\n",
       "      <td>RT @nftjakey: 🌎EARTH DAY GIVEAWAY!🌎\\n\\nPrizes:...</td>\n",
       "      <td>ad,solana,NFTGiveaway</td>\n",
       "      <td>nftjakey,nftjakey,ZombieTurtleNFT</td>\n",
       "      <td>['🌎', '🌎', '🏆', '🏆', '4️⃣']</td>\n",
       "      <td>NEGATIVE</td>\n",
       "      <td>joy</td>\n",
       "    </tr>\n",
       "    <tr>\n",
       "      <th>47</th>\n",
       "      <td>RT @uLethbridgeORIS: Happy Earth Day 🌱\\n\\n#Ear...</td>\n",
       "      <td>EarthDay,enviornment,GreenEnergy,EarthDay2022</td>\n",
       "      <td>uLethbridgeORIS</td>\n",
       "      <td>['🌱']</td>\n",
       "      <td>POSITIVE</td>\n",
       "      <td>joy</td>\n",
       "    </tr>\n",
       "  </tbody>\n",
       "</table>\n",
       "</div>"
      ],
      "text/plain": [
       "                                                 text  \\\n",
       "13  RT @ZLabe: ➡️ Create your own climate change s...   \n",
       "14  RT @LMMontgomeryLS: Oh, I don’t mean just the ...   \n",
       "30  RT @OutrageOptimism: The path ahead will be fu...   \n",
       "46  RT @nftjakey: 🌎EARTH DAY GIVEAWAY!🌎\\n\\nPrizes:...   \n",
       "47  RT @uLethbridgeORIS: Happy Earth Day 🌱\\n\\n#Ear...   \n",
       "\n",
       "                                        hash_tags  \\\n",
       "13                                EarthDay,Arctic   \n",
       "14                                       EarthDay   \n",
       "30                                       EarthDay   \n",
       "46                          ad,solana,NFTGiveaway   \n",
       "47  EarthDay,enviornment,GreenEnergy,EarthDay2022   \n",
       "\n",
       "                         account_tags                  emoji_lists sentiment  \\\n",
       "13                              ZLabe                        ['➡']  NEGATIVE   \n",
       "14                     LMMontgomeryLS                        ['🎨']  POSITIVE   \n",
       "30                    OutrageOptimism                   ['🌍', '🎧']  POSITIVE   \n",
       "46  nftjakey,nftjakey,ZombieTurtleNFT  ['🌎', '🌎', '🏆', '🏆', '4️⃣']  NEGATIVE   \n",
       "47                    uLethbridgeORIS                        ['🌱']  POSITIVE   \n",
       "\n",
       "     emotion  \n",
       "13       joy  \n",
       "14       joy  \n",
       "30  optimism  \n",
       "46       joy  \n",
       "47       joy  "
      ]
     },
     "execution_count": 14,
     "metadata": {},
     "output_type": "execute_result"
    }
   ],
   "source": [
    "# Dataframe index has been messed up due to deleting rows\n",
    "tweets.head()"
   ]
  },
  {
   "cell_type": "code",
   "execution_count": 15,
   "id": "886f34d1",
   "metadata": {
    "scrolled": true
   },
   "outputs": [
    {
     "data": {
      "text/html": [
       "<div>\n",
       "<style scoped>\n",
       "    .dataframe tbody tr th:only-of-type {\n",
       "        vertical-align: middle;\n",
       "    }\n",
       "\n",
       "    .dataframe tbody tr th {\n",
       "        vertical-align: top;\n",
       "    }\n",
       "\n",
       "    .dataframe thead th {\n",
       "        text-align: right;\n",
       "    }\n",
       "</style>\n",
       "<table border=\"1\" class=\"dataframe\">\n",
       "  <thead>\n",
       "    <tr style=\"text-align: right;\">\n",
       "      <th></th>\n",
       "      <th>index</th>\n",
       "      <th>text</th>\n",
       "      <th>hash_tags</th>\n",
       "      <th>account_tags</th>\n",
       "      <th>emoji_lists</th>\n",
       "      <th>sentiment</th>\n",
       "      <th>emotion</th>\n",
       "    </tr>\n",
       "  </thead>\n",
       "  <tbody>\n",
       "    <tr>\n",
       "      <th>0</th>\n",
       "      <td>13</td>\n",
       "      <td>RT @ZLabe: ➡️ Create your own climate change s...</td>\n",
       "      <td>EarthDay,Arctic</td>\n",
       "      <td>ZLabe</td>\n",
       "      <td>['➡']</td>\n",
       "      <td>NEGATIVE</td>\n",
       "      <td>joy</td>\n",
       "    </tr>\n",
       "    <tr>\n",
       "      <th>1</th>\n",
       "      <td>14</td>\n",
       "      <td>RT @LMMontgomeryLS: Oh, I don’t mean just the ...</td>\n",
       "      <td>EarthDay</td>\n",
       "      <td>LMMontgomeryLS</td>\n",
       "      <td>['🎨']</td>\n",
       "      <td>POSITIVE</td>\n",
       "      <td>joy</td>\n",
       "    </tr>\n",
       "    <tr>\n",
       "      <th>2</th>\n",
       "      <td>30</td>\n",
       "      <td>RT @OutrageOptimism: The path ahead will be fu...</td>\n",
       "      <td>EarthDay</td>\n",
       "      <td>OutrageOptimism</td>\n",
       "      <td>['🌍', '🎧']</td>\n",
       "      <td>POSITIVE</td>\n",
       "      <td>optimism</td>\n",
       "    </tr>\n",
       "    <tr>\n",
       "      <th>3</th>\n",
       "      <td>46</td>\n",
       "      <td>RT @nftjakey: 🌎EARTH DAY GIVEAWAY!🌎\\n\\nPrizes:...</td>\n",
       "      <td>ad,solana,NFTGiveaway</td>\n",
       "      <td>nftjakey,nftjakey,ZombieTurtleNFT</td>\n",
       "      <td>['🌎', '🌎', '🏆', '🏆', '4️⃣']</td>\n",
       "      <td>NEGATIVE</td>\n",
       "      <td>joy</td>\n",
       "    </tr>\n",
       "    <tr>\n",
       "      <th>4</th>\n",
       "      <td>47</td>\n",
       "      <td>RT @uLethbridgeORIS: Happy Earth Day 🌱\\n\\n#Ear...</td>\n",
       "      <td>EarthDay,enviornment,GreenEnergy,EarthDay2022</td>\n",
       "      <td>uLethbridgeORIS</td>\n",
       "      <td>['🌱']</td>\n",
       "      <td>POSITIVE</td>\n",
       "      <td>joy</td>\n",
       "    </tr>\n",
       "  </tbody>\n",
       "</table>\n",
       "</div>"
      ],
      "text/plain": [
       "   index                                               text  \\\n",
       "0     13  RT @ZLabe: ➡️ Create your own climate change s...   \n",
       "1     14  RT @LMMontgomeryLS: Oh, I don’t mean just the ...   \n",
       "2     30  RT @OutrageOptimism: The path ahead will be fu...   \n",
       "3     46  RT @nftjakey: 🌎EARTH DAY GIVEAWAY!🌎\\n\\nPrizes:...   \n",
       "4     47  RT @uLethbridgeORIS: Happy Earth Day 🌱\\n\\n#Ear...   \n",
       "\n",
       "                                       hash_tags  \\\n",
       "0                                EarthDay,Arctic   \n",
       "1                                       EarthDay   \n",
       "2                                       EarthDay   \n",
       "3                          ad,solana,NFTGiveaway   \n",
       "4  EarthDay,enviornment,GreenEnergy,EarthDay2022   \n",
       "\n",
       "                        account_tags                  emoji_lists sentiment  \\\n",
       "0                              ZLabe                        ['➡']  NEGATIVE   \n",
       "1                     LMMontgomeryLS                        ['🎨']  POSITIVE   \n",
       "2                    OutrageOptimism                   ['🌍', '🎧']  POSITIVE   \n",
       "3  nftjakey,nftjakey,ZombieTurtleNFT  ['🌎', '🌎', '🏆', '🏆', '4️⃣']  NEGATIVE   \n",
       "4                    uLethbridgeORIS                        ['🌱']  POSITIVE   \n",
       "\n",
       "    emotion  \n",
       "0       joy  \n",
       "1       joy  \n",
       "2  optimism  \n",
       "3       joy  \n",
       "4       joy  "
      ]
     },
     "execution_count": 15,
     "metadata": {},
     "output_type": "execute_result"
    }
   ],
   "source": [
    "# Rebuils the dataframe index\n",
    "tweets.reset_index(inplace=True)\n",
    "tweets.head()"
   ]
  },
  {
   "cell_type": "markdown",
   "id": "d9e7887f",
   "metadata": {},
   "source": [
    "### 3. Check for leading and trailing spaces in tweets"
   ]
  },
  {
   "cell_type": "code",
   "execution_count": 16,
   "id": "99c316d1",
   "metadata": {},
   "outputs": [
    {
     "data": {
      "text/html": [
       "<div>\n",
       "<style scoped>\n",
       "    .dataframe tbody tr th:only-of-type {\n",
       "        vertical-align: middle;\n",
       "    }\n",
       "\n",
       "    .dataframe tbody tr th {\n",
       "        vertical-align: top;\n",
       "    }\n",
       "\n",
       "    .dataframe thead th {\n",
       "        text-align: right;\n",
       "    }\n",
       "</style>\n",
       "<table border=\"1\" class=\"dataframe\">\n",
       "  <thead>\n",
       "    <tr style=\"text-align: right;\">\n",
       "      <th></th>\n",
       "      <th>index</th>\n",
       "      <th>text</th>\n",
       "      <th>hash_tags</th>\n",
       "      <th>account_tags</th>\n",
       "      <th>emoji_lists</th>\n",
       "      <th>sentiment</th>\n",
       "      <th>emotion</th>\n",
       "    </tr>\n",
       "  </thead>\n",
       "  <tbody>\n",
       "    <tr>\n",
       "      <th>0</th>\n",
       "      <td>13</td>\n",
       "      <td>RT @ZLabe: ➡️ Create your own climate change s...</td>\n",
       "      <td>EarthDay,Arctic</td>\n",
       "      <td>ZLabe</td>\n",
       "      <td>['➡']</td>\n",
       "      <td>NEGATIVE</td>\n",
       "      <td>joy</td>\n",
       "    </tr>\n",
       "    <tr>\n",
       "      <th>1</th>\n",
       "      <td>14</td>\n",
       "      <td>RT @LMMontgomeryLS: Oh, I don’t mean just the ...</td>\n",
       "      <td>EarthDay</td>\n",
       "      <td>LMMontgomeryLS</td>\n",
       "      <td>['🎨']</td>\n",
       "      <td>POSITIVE</td>\n",
       "      <td>joy</td>\n",
       "    </tr>\n",
       "    <tr>\n",
       "      <th>2</th>\n",
       "      <td>30</td>\n",
       "      <td>RT @OutrageOptimism: The path ahead will be fu...</td>\n",
       "      <td>EarthDay</td>\n",
       "      <td>OutrageOptimism</td>\n",
       "      <td>['🌍', '🎧']</td>\n",
       "      <td>POSITIVE</td>\n",
       "      <td>optimism</td>\n",
       "    </tr>\n",
       "    <tr>\n",
       "      <th>3</th>\n",
       "      <td>46</td>\n",
       "      <td>RT @nftjakey: 🌎EARTH DAY GIVEAWAY!🌎\\n\\nPrizes:...</td>\n",
       "      <td>ad,solana,NFTGiveaway</td>\n",
       "      <td>nftjakey,nftjakey,ZombieTurtleNFT</td>\n",
       "      <td>['🌎', '🌎', '🏆', '🏆', '4️⃣']</td>\n",
       "      <td>NEGATIVE</td>\n",
       "      <td>joy</td>\n",
       "    </tr>\n",
       "    <tr>\n",
       "      <th>4</th>\n",
       "      <td>47</td>\n",
       "      <td>RT @uLethbridgeORIS: Happy Earth Day 🌱\\n\\n#Ear...</td>\n",
       "      <td>EarthDay,enviornment,GreenEnergy,EarthDay2022</td>\n",
       "      <td>uLethbridgeORIS</td>\n",
       "      <td>['🌱']</td>\n",
       "      <td>POSITIVE</td>\n",
       "      <td>joy</td>\n",
       "    </tr>\n",
       "  </tbody>\n",
       "</table>\n",
       "</div>"
      ],
      "text/plain": [
       "   index                                               text  \\\n",
       "0     13  RT @ZLabe: ➡️ Create your own climate change s...   \n",
       "1     14  RT @LMMontgomeryLS: Oh, I don’t mean just the ...   \n",
       "2     30  RT @OutrageOptimism: The path ahead will be fu...   \n",
       "3     46  RT @nftjakey: 🌎EARTH DAY GIVEAWAY!🌎\\n\\nPrizes:...   \n",
       "4     47  RT @uLethbridgeORIS: Happy Earth Day 🌱\\n\\n#Ear...   \n",
       "\n",
       "                                       hash_tags  \\\n",
       "0                                EarthDay,Arctic   \n",
       "1                                       EarthDay   \n",
       "2                                       EarthDay   \n",
       "3                          ad,solana,NFTGiveaway   \n",
       "4  EarthDay,enviornment,GreenEnergy,EarthDay2022   \n",
       "\n",
       "                        account_tags                  emoji_lists sentiment  \\\n",
       "0                              ZLabe                        ['➡']  NEGATIVE   \n",
       "1                     LMMontgomeryLS                        ['🎨']  POSITIVE   \n",
       "2                    OutrageOptimism                   ['🌍', '🎧']  POSITIVE   \n",
       "3  nftjakey,nftjakey,ZombieTurtleNFT  ['🌎', '🌎', '🏆', '🏆', '4️⃣']  NEGATIVE   \n",
       "4                    uLethbridgeORIS                        ['🌱']  POSITIVE   \n",
       "\n",
       "    emotion  \n",
       "0       joy  \n",
       "1       joy  \n",
       "2  optimism  \n",
       "3       joy  \n",
       "4       joy  "
      ]
     },
     "execution_count": 16,
     "metadata": {},
     "output_type": "execute_result"
    }
   ],
   "source": [
    "tweets.head()"
   ]
  },
  {
   "cell_type": "code",
   "execution_count": 17,
   "id": "3e1fbb54",
   "metadata": {},
   "outputs": [
    {
     "data": {
      "text/plain": [
       "0"
      ]
     },
     "execution_count": 17,
     "metadata": {},
     "output_type": "execute_result"
    }
   ],
   "source": [
    "# Check for leading spaces in the tweets (text column)\n",
    "leading_space = []\n",
    "[leading_space.append(i) for i in tweets['text'].index if re.findall(r'^\\s.+', tweets['text'][i])]\n",
    "len(leading_space)\n",
    "# There is no leading space in any tweet"
   ]
  },
  {
   "cell_type": "code",
   "execution_count": 18,
   "id": "a41ed3c3",
   "metadata": {},
   "outputs": [
    {
     "data": {
      "text/plain": [
       "0"
      ]
     },
     "execution_count": 18,
     "metadata": {},
     "output_type": "execute_result"
    }
   ],
   "source": [
    "# Check for trailing spaces in the tweets (text column)\n",
    "trailing_space = []\n",
    "\n",
    "[trailing_space.append(i) for i in tweets['text'].index if re.findall(r'.+\\s$', tweets['text'][i])]\n",
    "\n",
    "len(trailing_space)\n",
    "# There is no trailing space in any tweet"
   ]
  },
  {
   "cell_type": "markdown",
   "id": "5e3bf0b3",
   "metadata": {},
   "source": [
    "## Analyse Data"
   ]
  },
  {
   "cell_type": "markdown",
   "id": "7c6ef5f0",
   "metadata": {},
   "source": [
    "### 1. Get Hashtags and Accounts mentioned in tweets"
   ]
  },
  {
   "cell_type": "code",
   "execution_count": 19,
   "id": "8e635f46",
   "metadata": {
    "scrolled": true
   },
   "outputs": [
    {
     "data": {
      "text/html": [
       "<div>\n",
       "<style scoped>\n",
       "    .dataframe tbody tr th:only-of-type {\n",
       "        vertical-align: middle;\n",
       "    }\n",
       "\n",
       "    .dataframe tbody tr th {\n",
       "        vertical-align: top;\n",
       "    }\n",
       "\n",
       "    .dataframe thead th {\n",
       "        text-align: right;\n",
       "    }\n",
       "</style>\n",
       "<table border=\"1\" class=\"dataframe\">\n",
       "  <thead>\n",
       "    <tr style=\"text-align: right;\">\n",
       "      <th></th>\n",
       "      <th>text</th>\n",
       "    </tr>\n",
       "  </thead>\n",
       "  <tbody>\n",
       "    <tr>\n",
       "      <th>0</th>\n",
       "      <td>RT @ZLabe: ➡️ Create your own climate change s...</td>\n",
       "    </tr>\n",
       "    <tr>\n",
       "      <th>1</th>\n",
       "      <td>RT @LMMontgomeryLS: Oh, I don’t mean just the ...</td>\n",
       "    </tr>\n",
       "    <tr>\n",
       "      <th>2</th>\n",
       "      <td>RT @OutrageOptimism: The path ahead will be fu...</td>\n",
       "    </tr>\n",
       "    <tr>\n",
       "      <th>3</th>\n",
       "      <td>RT @nftjakey: 🌎EARTH DAY GIVEAWAY!🌎\\n\\nPrizes:...</td>\n",
       "    </tr>\n",
       "    <tr>\n",
       "      <th>4</th>\n",
       "      <td>RT @uLethbridgeORIS: Happy Earth Day 🌱\\n\\n#Ear...</td>\n",
       "    </tr>\n",
       "  </tbody>\n",
       "</table>\n",
       "</div>"
      ],
      "text/plain": [
       "                                                text\n",
       "0  RT @ZLabe: ➡️ Create your own climate change s...\n",
       "1  RT @LMMontgomeryLS: Oh, I don’t mean just the ...\n",
       "2  RT @OutrageOptimism: The path ahead will be fu...\n",
       "3  RT @nftjakey: 🌎EARTH DAY GIVEAWAY!🌎\\n\\nPrizes:...\n",
       "4  RT @uLethbridgeORIS: Happy Earth Day 🌱\\n\\n#Ear..."
      ]
     },
     "execution_count": 19,
     "metadata": {},
     "output_type": "execute_result"
    }
   ],
   "source": [
    "# Creating new dataFrame with only text column\n",
    "tweet_df = pd.DataFrame(tweets['text'])\n",
    "tweet_df.head()"
   ]
  },
  {
   "cell_type": "code",
   "execution_count": 20,
   "id": "f8ada9bb",
   "metadata": {},
   "outputs": [
    {
     "data": {
      "text/plain": [
       "'RT @ZLabe: ➡️ Create your own climate change stripes for #EarthDay ! https://t.co/qDqGQvLNkJ\\n\\nHere is how much the #Arctic is warming up... \\U0001f979 https://t.co/OmNocSjzZs'"
      ]
     },
     "execution_count": 20,
     "metadata": {},
     "output_type": "execute_result"
    }
   ],
   "source": [
    "tweet_df['text'][0]"
   ]
  },
  {
   "cell_type": "code",
   "execution_count": 21,
   "id": "c636d0cd",
   "metadata": {},
   "outputs": [
    {
     "data": {
      "text/plain": [
       "(['#EarthDay', '#Arctic'], ['@ZLabe:'])"
      ]
     },
     "execution_count": 21,
     "metadata": {},
     "output_type": "execute_result"
    }
   ],
   "source": [
    "# Extract hash tags and mentioned accounts from first tweet using regex\n",
    "re.findall( r'#[\\w\\d\\S]+', tweet_df['text'][0]) , re.findall( r'@[\\w\\d\\S]+', tweet_df['text'][0])"
   ]
  },
  {
   "cell_type": "code",
   "execution_count": 22,
   "id": "28904c7c",
   "metadata": {},
   "outputs": [
    {
     "data": {
      "text/html": [
       "<div>\n",
       "<style scoped>\n",
       "    .dataframe tbody tr th:only-of-type {\n",
       "        vertical-align: middle;\n",
       "    }\n",
       "\n",
       "    .dataframe tbody tr th {\n",
       "        vertical-align: top;\n",
       "    }\n",
       "\n",
       "    .dataframe thead th {\n",
       "        text-align: right;\n",
       "    }\n",
       "</style>\n",
       "<table border=\"1\" class=\"dataframe\">\n",
       "  <thead>\n",
       "    <tr style=\"text-align: right;\">\n",
       "      <th></th>\n",
       "      <th>text</th>\n",
       "      <th>derv_hashtags</th>\n",
       "      <th>derv_accounts</th>\n",
       "    </tr>\n",
       "  </thead>\n",
       "  <tbody>\n",
       "    <tr>\n",
       "      <th>0</th>\n",
       "      <td>RT @ZLabe: ➡️ Create your own climate change s...</td>\n",
       "      <td>[EarthDay, Arctic]</td>\n",
       "      <td>[ZLabe]</td>\n",
       "    </tr>\n",
       "    <tr>\n",
       "      <th>1</th>\n",
       "      <td>RT @LMMontgomeryLS: Oh, I don’t mean just the ...</td>\n",
       "      <td>[EarthDay]</td>\n",
       "      <td>[LMMontgomeryLS]</td>\n",
       "    </tr>\n",
       "    <tr>\n",
       "      <th>2</th>\n",
       "      <td>RT @OutrageOptimism: The path ahead will be fu...</td>\n",
       "      <td>[EarthDay]</td>\n",
       "      <td>[OutrageOptimism]</td>\n",
       "    </tr>\n",
       "    <tr>\n",
       "      <th>3</th>\n",
       "      <td>RT @nftjakey: 🌎EARTH DAY GIVEAWAY!🌎\\n\\nPrizes:...</td>\n",
       "      <td>[ad, solana, NFTGiveaway]</td>\n",
       "      <td>[nftjakey, nftjakey, ZombieTurtleNFT]</td>\n",
       "    </tr>\n",
       "    <tr>\n",
       "      <th>4</th>\n",
       "      <td>RT @uLethbridgeORIS: Happy Earth Day 🌱\\n\\n#Ear...</td>\n",
       "      <td>[EarthDay, enviornment, GreenEnergy, EarthDay2...</td>\n",
       "      <td>[uLethbridgeORIS]</td>\n",
       "    </tr>\n",
       "  </tbody>\n",
       "</table>\n",
       "</div>"
      ],
      "text/plain": [
       "                                                text  \\\n",
       "0  RT @ZLabe: ➡️ Create your own climate change s...   \n",
       "1  RT @LMMontgomeryLS: Oh, I don’t mean just the ...   \n",
       "2  RT @OutrageOptimism: The path ahead will be fu...   \n",
       "3  RT @nftjakey: 🌎EARTH DAY GIVEAWAY!🌎\\n\\nPrizes:...   \n",
       "4  RT @uLethbridgeORIS: Happy Earth Day 🌱\\n\\n#Ear...   \n",
       "\n",
       "                                       derv_hashtags  \\\n",
       "0                                 [EarthDay, Arctic]   \n",
       "1                                         [EarthDay]   \n",
       "2                                         [EarthDay]   \n",
       "3                          [ad, solana, NFTGiveaway]   \n",
       "4  [EarthDay, enviornment, GreenEnergy, EarthDay2...   \n",
       "\n",
       "                           derv_accounts  \n",
       "0                                [ZLabe]  \n",
       "1                       [LMMontgomeryLS]  \n",
       "2                      [OutrageOptimism]  \n",
       "3  [nftjakey, nftjakey, ZombieTurtleNFT]  \n",
       "4                      [uLethbridgeORIS]  "
      ]
     },
     "execution_count": 22,
     "metadata": {},
     "output_type": "execute_result"
    }
   ],
   "source": [
    "# Extract hashtags and mentioned accounts in tweets and store them in 2 new columns in DataFrame\n",
    "\n",
    "tweet_df['derv_hashtags'] = tweet_df['text'].apply(lambda x: re.findall(r'#(.+?)\\s', x))\n",
    "tweet_df['derv_accounts'] = tweet_df['text'].apply(lambda x: re.findall(r'@(.+?):?\\s', x))\n",
    "tweet_df.head()"
   ]
  },
  {
   "cell_type": "code",
   "execution_count": 23,
   "id": "3b1bb3b8",
   "metadata": {},
   "outputs": [
    {
     "data": {
      "text/html": [
       "<div>\n",
       "<style scoped>\n",
       "    .dataframe tbody tr th:only-of-type {\n",
       "        vertical-align: middle;\n",
       "    }\n",
       "\n",
       "    .dataframe tbody tr th {\n",
       "        vertical-align: top;\n",
       "    }\n",
       "\n",
       "    .dataframe thead th {\n",
       "        text-align: right;\n",
       "    }\n",
       "</style>\n",
       "<table border=\"1\" class=\"dataframe\">\n",
       "  <thead>\n",
       "    <tr style=\"text-align: right;\">\n",
       "      <th></th>\n",
       "      <th>text</th>\n",
       "      <th>derv_hashtags</th>\n",
       "      <th>derv_accounts</th>\n",
       "    </tr>\n",
       "  </thead>\n",
       "  <tbody>\n",
       "    <tr>\n",
       "      <th>3970</th>\n",
       "      <td>RT @NVHumanities: Happy #EarthDay!🌎 Take time ...</td>\n",
       "      <td>[EarthDay!🌎]</td>\n",
       "      <td>[NVHumanities]</td>\n",
       "    </tr>\n",
       "    <tr>\n",
       "      <th>3868</th>\n",
       "      <td>RT @MiamiBeachNews: Today is #EarthDay, and wh...</td>\n",
       "      <td>[EarthDay,]</td>\n",
       "      <td>[MiamiBeachNews]</td>\n",
       "    </tr>\n",
       "    <tr>\n",
       "      <th>7197</th>\n",
       "      <td>RT @TAMULiberalArts: April 22 is #EarthDay! Ce...</td>\n",
       "      <td>[EarthDay!]</td>\n",
       "      <td>[TAMULiberalArts]</td>\n",
       "    </tr>\n",
       "    <tr>\n",
       "      <th>2848</th>\n",
       "      <td>RT @IEngageApp: Happy Earth Day! 🌎🌍🌏 #EarthDay...</td>\n",
       "      <td>[EarthDay]</td>\n",
       "      <td>[IEngageApp]</td>\n",
       "    </tr>\n",
       "    <tr>\n",
       "      <th>2352</th>\n",
       "      <td>RT @AmeriCorpsVISTA: #DYK? On Earth Day and ev...</td>\n",
       "      <td>[DYK?, EarthDay2022, AmeriCorpsVISTA, InvestIn...</td>\n",
       "      <td>[AmeriCorpsVISTA]</td>\n",
       "    </tr>\n",
       "  </tbody>\n",
       "</table>\n",
       "</div>"
      ],
      "text/plain": [
       "                                                   text  \\\n",
       "3970  RT @NVHumanities: Happy #EarthDay!🌎 Take time ...   \n",
       "3868  RT @MiamiBeachNews: Today is #EarthDay, and wh...   \n",
       "7197  RT @TAMULiberalArts: April 22 is #EarthDay! Ce...   \n",
       "2848  RT @IEngageApp: Happy Earth Day! 🌎🌍🌏 #EarthDay...   \n",
       "2352  RT @AmeriCorpsVISTA: #DYK? On Earth Day and ev...   \n",
       "\n",
       "                                          derv_hashtags      derv_accounts  \n",
       "3970                                       [EarthDay!🌎]     [NVHumanities]  \n",
       "3868                                        [EarthDay,]   [MiamiBeachNews]  \n",
       "7197                                        [EarthDay!]  [TAMULiberalArts]  \n",
       "2848                                         [EarthDay]       [IEngageApp]  \n",
       "2352  [DYK?, EarthDay2022, AmeriCorpsVISTA, InvestIn...  [AmeriCorpsVISTA]  "
      ]
     },
     "execution_count": 23,
     "metadata": {},
     "output_type": "execute_result"
    }
   ],
   "source": [
    "tweet_df.sample(5)"
   ]
  },
  {
   "cell_type": "code",
   "execution_count": 24,
   "id": "30ca3c1d",
   "metadata": {},
   "outputs": [
    {
     "data": {
      "text/plain": [
       "('RT @NotreDameOCSB: Great to be out cleaning up our community on #EarthDay2022. Keep up the great work not only today but everyday. 🦅🌎#ThisisND #OcsbBeCommunity  #EarthDay #CleanUp @Outdoor_Easy https://t.co/Cq9gdKLWtH',\n",
       " ['EarthDay2022.', 'ThisisND', 'OcsbBeCommunity', 'EarthDay', 'CleanUp'],\n",
       " ['NotreDameOCSB', 'Outdoor_Easy'])"
      ]
     },
     "execution_count": 24,
     "metadata": {},
     "output_type": "execute_result"
    }
   ],
   "source": [
    "# Cross check for few tweets\n",
    "\n",
    "tweet_df['text'][7422] , tweet_df['derv_hashtags'][7422] , tweet_df['derv_accounts'][7422]"
   ]
  },
  {
   "cell_type": "markdown",
   "id": "2d6e3dfe",
   "metadata": {},
   "source": [
    "### 2. Visualize the top 10 hastags used in tweets"
   ]
  },
  {
   "cell_type": "code",
   "execution_count": 25,
   "id": "41185e28",
   "metadata": {},
   "outputs": [
    {
     "data": {
      "text/plain": [
       "(20663, 7007)"
      ]
     },
     "execution_count": 25,
     "metadata": {},
     "output_type": "execute_result"
    }
   ],
   "source": [
    "# creating list of all the hashtags used\n",
    "all_hashtags = []\n",
    "\n",
    "[all_hashtags.extend(i) for i in tweet_df['derv_hashtags'] ]\n",
    "len(all_hashtags), len(set(all_hashtags))"
   ]
  },
  {
   "cell_type": "code",
   "execution_count": 26,
   "id": "e968ba40",
   "metadata": {},
   "outputs": [
    {
     "data": {
      "text/html": [
       "<div>\n",
       "<style scoped>\n",
       "    .dataframe tbody tr th:only-of-type {\n",
       "        vertical-align: middle;\n",
       "    }\n",
       "\n",
       "    .dataframe tbody tr th {\n",
       "        vertical-align: top;\n",
       "    }\n",
       "\n",
       "    .dataframe thead th {\n",
       "        text-align: right;\n",
       "    }\n",
       "</style>\n",
       "<table border=\"1\" class=\"dataframe\">\n",
       "  <thead>\n",
       "    <tr style=\"text-align: right;\">\n",
       "      <th></th>\n",
       "      <th>hashtag</th>\n",
       "      <th>frequency</th>\n",
       "    </tr>\n",
       "  </thead>\n",
       "  <tbody>\n",
       "    <tr>\n",
       "      <th>0</th>\n",
       "      <td>EarthDay</td>\n",
       "      <td>3765</td>\n",
       "    </tr>\n",
       "    <tr>\n",
       "      <th>1</th>\n",
       "      <td>EarthDay2022</td>\n",
       "      <td>902</td>\n",
       "    </tr>\n",
       "    <tr>\n",
       "      <th>2</th>\n",
       "      <td>EarthDay!</td>\n",
       "      <td>716</td>\n",
       "    </tr>\n",
       "    <tr>\n",
       "      <th>3</th>\n",
       "      <td>EarthDay,</td>\n",
       "      <td>529</td>\n",
       "    </tr>\n",
       "    <tr>\n",
       "      <th>4</th>\n",
       "      <td>earthday</td>\n",
       "      <td>498</td>\n",
       "    </tr>\n",
       "    <tr>\n",
       "      <th>5</th>\n",
       "      <td>InvestInOurPlanet</td>\n",
       "      <td>276</td>\n",
       "    </tr>\n",
       "    <tr>\n",
       "      <th>6</th>\n",
       "      <td>SaveSoil</td>\n",
       "      <td>205</td>\n",
       "    </tr>\n",
       "    <tr>\n",
       "      <th>7</th>\n",
       "      <td>EarthDay22</td>\n",
       "      <td>204</td>\n",
       "    </tr>\n",
       "    <tr>\n",
       "      <th>8</th>\n",
       "      <td>MyConnectWithSoil</td>\n",
       "      <td>143</td>\n",
       "    </tr>\n",
       "    <tr>\n",
       "      <th>9</th>\n",
       "      <td>earthday2022</td>\n",
       "      <td>125</td>\n",
       "    </tr>\n",
       "  </tbody>\n",
       "</table>\n",
       "</div>"
      ],
      "text/plain": [
       "             hashtag  frequency\n",
       "0           EarthDay       3765\n",
       "1       EarthDay2022        902\n",
       "2          EarthDay!        716\n",
       "3          EarthDay,        529\n",
       "4           earthday        498\n",
       "5  InvestInOurPlanet        276\n",
       "6           SaveSoil        205\n",
       "7         EarthDay22        204\n",
       "8  MyConnectWithSoil        143\n",
       "9       earthday2022        125"
      ]
     },
     "execution_count": 26,
     "metadata": {},
     "output_type": "execute_result"
    }
   ],
   "source": [
    "from collections import Counter\n",
    "\n",
    "# creating data frame for all the hashtags used and their frequency\n",
    "most_used_hashtags = Counter(all_hashtags).most_common(10)\n",
    "most_used_hashtags_df = pd.DataFrame(most_used_hashtags, columns = ['hashtag', 'frequency'])\n",
    "most_used_hashtags_df"
   ]
  },
  {
   "cell_type": "code",
   "execution_count": 27,
   "id": "0b37f729",
   "metadata": {},
   "outputs": [
    {
     "data": {
      "image/png": "[encoded data removed]",
      "text/plain": [
       "<Figure size 720x360 with 1 Axes>"
      ]
     },
     "metadata": {
      "needs_background": "light"
     },
     "output_type": "display_data"
    }
   ],
   "source": [
    "# plotting most used hashtags\n",
    "\n",
    "fig, ax = plt.subplots(figsize=(10, 5))\n",
    "\n",
    "sns.barplot(x=most_used_hashtags_df['hashtag'], y=most_used_hashtags_df['frequency'] )\n",
    "\n",
    "ax.set_xlabel('Hash Tags', fontsize=12)\n",
    "ax.set_ylabel('Frequency in Tweets', fontsize=12)\n",
    "ax.set_xticklabels(most_used_hashtags_df['hashtag'], rotation=45, fontsize=11)\n",
    "ax.set_title('Most Used Hastags in Earth Day Tweets', fontsize=14)\n",
    "\n",
    "plt.show()"
   ]
  },
  {
   "cell_type": "markdown",
   "id": "ea20918e",
   "metadata": {},
   "source": [
    "### 3. Visualize the top 10 accounts tagged in tweets"
   ]
  },
  {
   "cell_type": "code",
   "execution_count": 28,
   "id": "8846f148",
   "metadata": {},
   "outputs": [
    {
     "data": {
      "text/plain": [
       "(13085, 9929)"
      ]
     },
     "execution_count": 28,
     "metadata": {},
     "output_type": "execute_result"
    }
   ],
   "source": [
    "# creating list of all the accounts tagged in the tweets\n",
    "all_accounts = []\n",
    "[all_accounts.extend(i) for i in tweet_df['derv_accounts'] ]\n",
    "len(all_accounts), len(set(all_accounts))"
   ]
  },
  {
   "cell_type": "code",
   "execution_count": 29,
   "id": "6f8db4bd",
   "metadata": {},
   "outputs": [
    {
     "data": {
      "text/html": [
       "<div>\n",
       "<style scoped>\n",
       "    .dataframe tbody tr th:only-of-type {\n",
       "        vertical-align: middle;\n",
       "    }\n",
       "\n",
       "    .dataframe tbody tr th {\n",
       "        vertical-align: top;\n",
       "    }\n",
       "\n",
       "    .dataframe thead th {\n",
       "        text-align: right;\n",
       "    }\n",
       "</style>\n",
       "<table border=\"1\" class=\"dataframe\">\n",
       "  <thead>\n",
       "    <tr style=\"text-align: right;\">\n",
       "      <th></th>\n",
       "      <th>account</th>\n",
       "      <th>frequency</th>\n",
       "    </tr>\n",
       "  </thead>\n",
       "  <tbody>\n",
       "    <tr>\n",
       "      <th>0</th>\n",
       "      <td>cpsavesoil</td>\n",
       "      <td>111</td>\n",
       "    </tr>\n",
       "    <tr>\n",
       "      <th>1</th>\n",
       "      <td>EarthDay</td>\n",
       "      <td>91</td>\n",
       "    </tr>\n",
       "    <tr>\n",
       "      <th>2</th>\n",
       "      <td>SadhguruJV</td>\n",
       "      <td>88</td>\n",
       "    </tr>\n",
       "    <tr>\n",
       "      <th>3</th>\n",
       "      <td>WeDontHaveTime</td>\n",
       "      <td>63</td>\n",
       "    </tr>\n",
       "    <tr>\n",
       "      <th>4</th>\n",
       "      <td>POTUS</td>\n",
       "      <td>35</td>\n",
       "    </tr>\n",
       "    <tr>\n",
       "      <th>5</th>\n",
       "      <td>century21.ca</td>\n",
       "      <td>32</td>\n",
       "    </tr>\n",
       "    <tr>\n",
       "      <th>6</th>\n",
       "      <td>onetreeplanted</td>\n",
       "      <td>30</td>\n",
       "    </tr>\n",
       "    <tr>\n",
       "      <th>7</th>\n",
       "      <td>UN</td>\n",
       "      <td>22</td>\n",
       "    </tr>\n",
       "    <tr>\n",
       "      <th>8</th>\n",
       "      <td>NASA</td>\n",
       "      <td>22</td>\n",
       "    </tr>\n",
       "    <tr>\n",
       "      <th>9</th>\n",
       "      <td>UNEP</td>\n",
       "      <td>21</td>\n",
       "    </tr>\n",
       "  </tbody>\n",
       "</table>\n",
       "</div>"
      ],
      "text/plain": [
       "          account  frequency\n",
       "0      cpsavesoil        111\n",
       "1        EarthDay         91\n",
       "2      SadhguruJV         88\n",
       "3  WeDontHaveTime         63\n",
       "4           POTUS         35\n",
       "5    century21.ca         32\n",
       "6  onetreeplanted         30\n",
       "7              UN         22\n",
       "8            NASA         22\n",
       "9            UNEP         21"
      ]
     },
     "execution_count": 29,
     "metadata": {},
     "output_type": "execute_result"
    }
   ],
   "source": [
    "# creating data frame for all the accounts tagged in the tweets and their frequency\n",
    "most_used_accounts = Counter(all_accounts).most_common(10)\n",
    "most_used_accounts_df = pd.DataFrame(most_used_accounts, columns = ['account', 'frequency'])\n",
    "most_used_accounts_df"
   ]
  },
  {
   "cell_type": "code",
   "execution_count": 30,
   "id": "485f257d",
   "metadata": {},
   "outputs": [
    {
     "data": {
      "image/png": "[encoded data removed]",
      "text/plain": [
       "<Figure size 720x360 with 1 Axes>"
      ]
     },
     "metadata": {
      "needs_background": "light"
     },
     "output_type": "display_data"
    }
   ],
   "source": [
    "# plotting most used accounts\n",
    "\n",
    "fig, ax = plt.subplots(figsize=(10, 5))\n",
    "\n",
    "sns.barplot(x=most_used_accounts_df['account'], y=most_used_accounts_df['frequency'] )\n",
    "\n",
    "ax.set_xlabel('Twitter Account', fontsize=13)\n",
    "ax.set_ylabel('Frequency in Tweets', fontsize=13)\n",
    "ax.set_xticklabels(most_used_accounts_df['account'], rotation=45, fontsize=11)\n",
    "ax.set_title('Most Used Accounts in Earth Day Tweets', fontsize=15)\n",
    "\n",
    "plt.show()"
   ]
  },
  {
   "cell_type": "markdown",
   "id": "5813a113",
   "metadata": {},
   "source": [
    "### 4. Visualize average no of hastags and accounts used per tweet"
   ]
  },
  {
   "cell_type": "code",
   "execution_count": 31,
   "id": "50cbefcd",
   "metadata": {},
   "outputs": [
    {
     "name": "stderr",
     "output_type": "stream",
     "text": [
      "C:\\Users\\Dell\\anaconda3\\lib\\site-packages\\seaborn\\_decorators.py:36: FutureWarning: Pass the following variables as keyword args: x, y. From version 0.12, the only valid positional argument will be `data`, and passing other arguments without an explicit keyword will result in an error or misinterpretation.\n",
      "  warnings.warn(\n"
     ]
    },
    {
     "data": {
      "image/png": "[encoded data removed]",
      "text/plain": [
       "<Figure size 360x360 with 1 Axes>"
      ]
     },
     "metadata": {
      "needs_background": "light"
     },
     "output_type": "display_data"
    }
   ],
   "source": [
    "from statistics import mean\n",
    "\n",
    "# plotting average number of hastags used and accounts tagged per tweet\n",
    "fig, ax = plt.subplots(figsize=(5, 5))\n",
    "\n",
    "sns.barplot(['Hashtags', 'Accounts'], \n",
    "       [round(mean(tweet_df['derv_hashtags'].apply(len))), round(mean(tweet_df['derv_accounts'].apply(len)))] )\n",
    "\n",
    "ax.set_ylabel('Average Fequency per Tweet', fontsize=12)\n",
    "ax.set_title('Most Used Hastags in Earth Day Tweets', fontsize=14)\n",
    "ax.set_xticklabels(['Hashtags', 'Accounts'], fontsize=11)\n",
    "\n",
    "plt.show()"
   ]
  },
  {
   "cell_type": "code",
   "execution_count": null,
   "id": "4a5b2e2f",
   "metadata": {},
   "outputs": [],
   "source": []
  },
  {
   "cell_type": "code",
   "execution_count": null,
   "id": "d364dd8c",
   "metadata": {},
   "outputs": [],
   "source": []
  }
 ],
 "metadata": {
  "kernelspec": {
   "display_name": "Python 3 (ipykernel)",
   "language": "python",
   "name": "python3"
  },
  "language_info": {
   "codemirror_mode": {
    "name": "ipython",
    "version": 3
   },
   "file_extension": ".py",
   "mimetype": "text/x-python",
   "name": "python",
   "nbconvert_exporter": "python",
   "pygments_lexer": "ipython3",
   "version": "3.9.12"
  }
 },
 "nbformat": 4,
 "nbformat_minor": 5
}
